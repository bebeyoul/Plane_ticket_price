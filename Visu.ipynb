{
 "cells": [
  {
   "cell_type": "code",
   "execution_count": 1,
   "metadata": {},
   "outputs": [],
   "source": [
    "import pandas as pd"
   ]
  },
  {
   "cell_type": "code",
   "execution_count": 2,
   "metadata": {},
   "outputs": [
    {
     "data": {
      "text/html": [
       "<div>\n",
       "<style scoped>\n",
       "    .dataframe tbody tr th:only-of-type {\n",
       "        vertical-align: middle;\n",
       "    }\n",
       "\n",
       "    .dataframe tbody tr th {\n",
       "        vertical-align: top;\n",
       "    }\n",
       "\n",
       "    .dataframe thead th {\n",
       "        text-align: right;\n",
       "    }\n",
       "</style>\n",
       "<table border=\"1\" class=\"dataframe\">\n",
       "  <thead>\n",
       "    <tr style=\"text-align: right;\">\n",
       "      <th></th>\n",
       "      <th>Unnamed: 0</th>\n",
       "      <th>VPN</th>\n",
       "      <th>Date</th>\n",
       "      <th>Depart</th>\n",
       "      <th>Arrivé</th>\n",
       "      <th>Prix</th>\n",
       "      <th>Temps de vol</th>\n",
       "      <th>Heure de départ</th>\n",
       "      <th>Heure d'arrivé</th>\n",
       "      <th>Nombre d'escales</th>\n",
       "      <th>Compagnies</th>\n",
       "      <th>PIB par habitant ($)</th>\n",
       "    </tr>\n",
       "  </thead>\n",
       "  <tbody>\n",
       "    <tr>\n",
       "      <th>0</th>\n",
       "      <td>0</td>\n",
       "      <td>Cambodge</td>\n",
       "      <td>30/01/2023</td>\n",
       "      <td>Aéroport de Paris Charles de Gaulle, Paris, Fr...</td>\n",
       "      <td>Aéroport Kingsford Smith de Sydney, Sydney, No...</td>\n",
       "      <td>908 €</td>\n",
       "      <td>33h 0m</td>\n",
       "      <td>12:30</td>\n",
       "      <td>07:30</td>\n",
       "      <td>2 escales</td>\n",
       "      <td>Plusieurs compagnies</td>\n",
       "      <td>4000</td>\n",
       "    </tr>\n",
       "    <tr>\n",
       "      <th>1</th>\n",
       "      <td>1</td>\n",
       "      <td>Cambodge</td>\n",
       "      <td>30/01/2023</td>\n",
       "      <td>Aéroport de Paris Charles de Gaulle, Paris, Fr...</td>\n",
       "      <td>Aéroport Kingsford Smith de Sydney, Sydney, No...</td>\n",
       "      <td>1 537 €</td>\n",
       "      <td>25h 10m</td>\n",
       "      <td>21:00</td>\n",
       "      <td>08:10</td>\n",
       "      <td>1 escale</td>\n",
       "      <td>Air India</td>\n",
       "      <td>4000</td>\n",
       "    </tr>\n",
       "  </tbody>\n",
       "</table>\n",
       "</div>"
      ],
      "text/plain": [
       "   Unnamed: 0       VPN        Date  \\\n",
       "0           0  Cambodge  30/01/2023   \n",
       "1           1  Cambodge  30/01/2023   \n",
       "\n",
       "                                              Depart  \\\n",
       "0  Aéroport de Paris Charles de Gaulle, Paris, Fr...   \n",
       "1  Aéroport de Paris Charles de Gaulle, Paris, Fr...   \n",
       "\n",
       "                                              Arrivé     Prix Temps de vol  \\\n",
       "0  Aéroport Kingsford Smith de Sydney, Sydney, No...    908 €       33h 0m   \n",
       "1  Aéroport Kingsford Smith de Sydney, Sydney, No...  1 537 €      25h 10m   \n",
       "\n",
       "  Heure de départ Heure d'arrivé Nombre d'escales            Compagnies  \\\n",
       "0           12:30          07:30        2 escales  Plusieurs compagnies   \n",
       "1           21:00          08:10         1 escale             Air India   \n",
       "\n",
       "   PIB par habitant ($)  \n",
       "0                  4000  \n",
       "1                  4000  "
      ]
     },
     "execution_count": 2,
     "metadata": {},
     "output_type": "execute_result"
    }
   ],
   "source": [
    "# df=pd.read_csv(\"final_dataset.csv\")\n",
    "df=pd.read_csv(\"data/final_dataset.csv\")\n",
    "df.head(2)"
   ]
  },
  {
   "cell_type": "code",
   "execution_count": 3,
   "metadata": {},
   "outputs": [
    {
     "data": {
      "text/plain": [
       "1537"
      ]
     },
     "execution_count": 3,
     "metadata": {},
     "output_type": "execute_result"
    }
   ],
   "source": [
    "df[\"Prix\"]=df[\"Prix\"].apply(lambda x :int(x.replace(\"€\",\"\").replace(\" \",\"\").strip()))\n",
    "df.loc[1,\"Prix\"]"
   ]
  },
  {
   "cell_type": "code",
   "execution_count": 4,
   "metadata": {},
   "outputs": [
    {
     "name": "stderr",
     "output_type": "stream",
     "text": [
      "C:\\Users\\romai\\AppData\\Local\\Temp\\ipykernel_10276\\3461658687.py:1: FutureWarning: Indexing with multiple keys (implicitly converted to a tuple of keys) will be deprecated, use a list instead.\n",
      "  test=df.groupby(by=['Depart', 'Arrivé','Heure de départ', \"Heure d'arrivé\",'Date',\"Compagnies\",\"Nombre d'escales\",\"Temps de vol\"])[\"Prix\",\"VPN\"].agg(lambda x: x.tolist()).reset_index()\n"
     ]
    }
   ],
   "source": [
    "test=df.groupby(by=['Depart', 'Arrivé','Heure de départ', \"Heure d'arrivé\",'Date',\"Compagnies\",\"Nombre d'escales\",\"Temps de vol\"])[\"Prix\",\"VPN\"].agg(lambda x: x.tolist()).reset_index()   "
   ]
  },
  {
   "cell_type": "code",
   "execution_count": 5,
   "metadata": {},
   "outputs": [],
   "source": [
    "def __from_list_to_dico__(x):\n",
    "    dico={}\n",
    "    for i in x:\n",
    "        if i not in dico:\n",
    "            dico[i]=1\n",
    "        else:\n",
    "            dico[i]+=1\n",
    "    return dico\n",
    "\n",
    "test[\"dico_Prix\"]=None\n",
    "test[\"dico_Prix\"]=test[\"Prix\"].apply(lambda x :__from_list_to_dico__(x))\n"
   ]
  },
  {
   "cell_type": "code",
   "execution_count": 6,
   "metadata": {},
   "outputs": [],
   "source": [
    "\n",
    "\n",
    "def __dico_VPN_Prix__(x):\n",
    "    return dict(zip(x[\"VPN\"],x[\"Prix\"] )) \n",
    "\n",
    "test[\"dico_VPN_prix\"]=None\n",
    "test[\"dico_VPN_prix\"]=test.apply(lambda x:__dico_VPN_Prix__(x),axis=1 )"
   ]
  },
  {
   "cell_type": "code",
   "execution_count": 7,
   "metadata": {},
   "outputs": [],
   "source": [
    "from statistics import mean\n",
    "test[\"prix_moyen_trajet\"]=None\n",
    "test[\"prix_moyen_trajet\"]=test[\"dico_VPN_prix\"].apply(lambda x:round(mean([i for i in x.values()]),2) )"
   ]
  },
  {
   "cell_type": "code",
   "execution_count": 8,
   "metadata": {},
   "outputs": [],
   "source": [
    "from statistics import median\n",
    "test[\"prix_median_trajet\"]=None\n",
    "test[\"prix_median_trajet\"]=test[\"dico_VPN_prix\"].apply(lambda x:round(median([i for i in x.values()]),2) )"
   ]
  },
  {
   "attachments": {},
   "cell_type": "markdown",
   "metadata": {},
   "source": [
    "# Verifier que on a le meme prix pour tous les vols si on a la variable plusieurs compagnies"
   ]
  },
  {
   "cell_type": "code",
   "execution_count": 9,
   "metadata": {},
   "outputs": [],
   "source": [
    "def __is_same_price__(x):\n",
    "    verif=False\n",
    "    if len(x)==1 or (len(x)==2 and \"57 €\" in x.keys()) :\n",
    "        verif= True\n",
    "    return verif\n",
    "    \n",
    "\n",
    "test[\"is_same_price\"]=None\n",
    "test[\"is_same_price\"]=test[\"dico_Prix\"].apply(lambda x :__is_same_price__(x))\n"
   ]
  },
  {
   "cell_type": "code",
   "execution_count": 10,
   "metadata": {},
   "outputs": [
    {
     "data": {
      "text/html": [
       "<div>\n",
       "<style scoped>\n",
       "    .dataframe tbody tr th:only-of-type {\n",
       "        vertical-align: middle;\n",
       "    }\n",
       "\n",
       "    .dataframe tbody tr th {\n",
       "        vertical-align: top;\n",
       "    }\n",
       "\n",
       "    .dataframe thead th {\n",
       "        text-align: right;\n",
       "    }\n",
       "</style>\n",
       "<table border=\"1\" class=\"dataframe\">\n",
       "  <thead>\n",
       "    <tr style=\"text-align: right;\">\n",
       "      <th></th>\n",
       "      <th>Depart</th>\n",
       "      <th>Arrivé</th>\n",
       "      <th>Heure de départ</th>\n",
       "      <th>Heure d'arrivé</th>\n",
       "      <th>Date</th>\n",
       "      <th>Compagnies</th>\n",
       "      <th>Nombre d'escales</th>\n",
       "      <th>Temps de vol</th>\n",
       "      <th>Prix</th>\n",
       "      <th>VPN</th>\n",
       "      <th>dico_Prix</th>\n",
       "      <th>dico_VPN_prix</th>\n",
       "      <th>prix_moyen_trajet</th>\n",
       "      <th>prix_median_trajet</th>\n",
       "    </tr>\n",
       "    <tr>\n",
       "      <th>is_same_price</th>\n",
       "      <th></th>\n",
       "      <th></th>\n",
       "      <th></th>\n",
       "      <th></th>\n",
       "      <th></th>\n",
       "      <th></th>\n",
       "      <th></th>\n",
       "      <th></th>\n",
       "      <th></th>\n",
       "      <th></th>\n",
       "      <th></th>\n",
       "      <th></th>\n",
       "      <th></th>\n",
       "      <th></th>\n",
       "    </tr>\n",
       "  </thead>\n",
       "  <tbody>\n",
       "    <tr>\n",
       "      <th>False</th>\n",
       "      <td>98</td>\n",
       "      <td>98</td>\n",
       "      <td>98</td>\n",
       "      <td>98</td>\n",
       "      <td>98</td>\n",
       "      <td>98</td>\n",
       "      <td>98</td>\n",
       "      <td>98</td>\n",
       "      <td>98</td>\n",
       "      <td>98</td>\n",
       "      <td>98</td>\n",
       "      <td>98</td>\n",
       "      <td>98</td>\n",
       "      <td>98</td>\n",
       "    </tr>\n",
       "    <tr>\n",
       "      <th>True</th>\n",
       "      <td>81</td>\n",
       "      <td>81</td>\n",
       "      <td>81</td>\n",
       "      <td>81</td>\n",
       "      <td>81</td>\n",
       "      <td>81</td>\n",
       "      <td>81</td>\n",
       "      <td>81</td>\n",
       "      <td>81</td>\n",
       "      <td>81</td>\n",
       "      <td>81</td>\n",
       "      <td>81</td>\n",
       "      <td>81</td>\n",
       "      <td>81</td>\n",
       "    </tr>\n",
       "  </tbody>\n",
       "</table>\n",
       "</div>"
      ],
      "text/plain": [
       "               Depart  Arrivé  Heure de départ  Heure d'arrivé  Date  \\\n",
       "is_same_price                                                          \n",
       "False              98      98               98              98    98   \n",
       "True               81      81               81              81    81   \n",
       "\n",
       "               Compagnies  Nombre d'escales  Temps de vol  Prix  VPN  \\\n",
       "is_same_price                                                          \n",
       "False                  98                98            98    98   98   \n",
       "True                   81                81            81    81   81   \n",
       "\n",
       "               dico_Prix  dico_VPN_prix  prix_moyen_trajet  prix_median_trajet  \n",
       "is_same_price                                                                   \n",
       "False                 98             98                 98                  98  \n",
       "True                  81             81                 81                  81  "
      ]
     },
     "execution_count": 10,
     "metadata": {},
     "output_type": "execute_result"
    }
   ],
   "source": [
    "\n",
    "test[test.Compagnies==\"Plusieurs compagnies\"].groupby(\"is_same_price\").count()"
   ]
  },
  {
   "cell_type": "code",
   "execution_count": 11,
   "metadata": {},
   "outputs": [
    {
     "data": {
      "text/html": [
       "<div>\n",
       "<style scoped>\n",
       "    .dataframe tbody tr th:only-of-type {\n",
       "        vertical-align: middle;\n",
       "    }\n",
       "\n",
       "    .dataframe tbody tr th {\n",
       "        vertical-align: top;\n",
       "    }\n",
       "\n",
       "    .dataframe thead th {\n",
       "        text-align: right;\n",
       "    }\n",
       "</style>\n",
       "<table border=\"1\" class=\"dataframe\">\n",
       "  <thead>\n",
       "    <tr style=\"text-align: right;\">\n",
       "      <th></th>\n",
       "      <th></th>\n",
       "      <th>Depart</th>\n",
       "      <th>Arrivé</th>\n",
       "      <th>Heure de départ</th>\n",
       "      <th>Heure d'arrivé</th>\n",
       "      <th>Date</th>\n",
       "      <th>Nombre d'escales</th>\n",
       "      <th>Temps de vol</th>\n",
       "      <th>Prix</th>\n",
       "      <th>VPN</th>\n",
       "      <th>dico_Prix</th>\n",
       "      <th>dico_VPN_prix</th>\n",
       "      <th>prix_moyen_trajet</th>\n",
       "      <th>prix_median_trajet</th>\n",
       "    </tr>\n",
       "    <tr>\n",
       "      <th>is_same_price</th>\n",
       "      <th>Compagnies</th>\n",
       "      <th></th>\n",
       "      <th></th>\n",
       "      <th></th>\n",
       "      <th></th>\n",
       "      <th></th>\n",
       "      <th></th>\n",
       "      <th></th>\n",
       "      <th></th>\n",
       "      <th></th>\n",
       "      <th></th>\n",
       "      <th></th>\n",
       "      <th></th>\n",
       "      <th></th>\n",
       "    </tr>\n",
       "  </thead>\n",
       "  <tbody>\n",
       "    <tr>\n",
       "      <th rowspan=\"29\" valign=\"top\">False</th>\n",
       "      <th>Air Arabia</th>\n",
       "      <td>1</td>\n",
       "      <td>1</td>\n",
       "      <td>1</td>\n",
       "      <td>1</td>\n",
       "      <td>1</td>\n",
       "      <td>1</td>\n",
       "      <td>1</td>\n",
       "      <td>1</td>\n",
       "      <td>1</td>\n",
       "      <td>1</td>\n",
       "      <td>1</td>\n",
       "      <td>1</td>\n",
       "      <td>1</td>\n",
       "    </tr>\n",
       "    <tr>\n",
       "      <th>Air Canada</th>\n",
       "      <td>5</td>\n",
       "      <td>5</td>\n",
       "      <td>5</td>\n",
       "      <td>5</td>\n",
       "      <td>5</td>\n",
       "      <td>5</td>\n",
       "      <td>5</td>\n",
       "      <td>5</td>\n",
       "      <td>5</td>\n",
       "      <td>5</td>\n",
       "      <td>5</td>\n",
       "      <td>5</td>\n",
       "      <td>5</td>\n",
       "    </tr>\n",
       "    <tr>\n",
       "      <th>Air France</th>\n",
       "      <td>4</td>\n",
       "      <td>4</td>\n",
       "      <td>4</td>\n",
       "      <td>4</td>\n",
       "      <td>4</td>\n",
       "      <td>4</td>\n",
       "      <td>4</td>\n",
       "      <td>4</td>\n",
       "      <td>4</td>\n",
       "      <td>4</td>\n",
       "      <td>4</td>\n",
       "      <td>4</td>\n",
       "      <td>4</td>\n",
       "    </tr>\n",
       "    <tr>\n",
       "      <th>Air India</th>\n",
       "      <td>4</td>\n",
       "      <td>4</td>\n",
       "      <td>4</td>\n",
       "      <td>4</td>\n",
       "      <td>4</td>\n",
       "      <td>4</td>\n",
       "      <td>4</td>\n",
       "      <td>4</td>\n",
       "      <td>4</td>\n",
       "      <td>4</td>\n",
       "      <td>4</td>\n",
       "      <td>4</td>\n",
       "      <td>4</td>\n",
       "    </tr>\n",
       "    <tr>\n",
       "      <th>China Airlines</th>\n",
       "      <td>1</td>\n",
       "      <td>1</td>\n",
       "      <td>1</td>\n",
       "      <td>1</td>\n",
       "      <td>1</td>\n",
       "      <td>1</td>\n",
       "      <td>1</td>\n",
       "      <td>1</td>\n",
       "      <td>1</td>\n",
       "      <td>1</td>\n",
       "      <td>1</td>\n",
       "      <td>1</td>\n",
       "      <td>1</td>\n",
       "    </tr>\n",
       "    <tr>\n",
       "      <th>Delta Air Lines</th>\n",
       "      <td>4</td>\n",
       "      <td>4</td>\n",
       "      <td>4</td>\n",
       "      <td>4</td>\n",
       "      <td>4</td>\n",
       "      <td>4</td>\n",
       "      <td>4</td>\n",
       "      <td>4</td>\n",
       "      <td>4</td>\n",
       "      <td>4</td>\n",
       "      <td>4</td>\n",
       "      <td>4</td>\n",
       "      <td>4</td>\n",
       "    </tr>\n",
       "    <tr>\n",
       "      <th>Egyptair</th>\n",
       "      <td>2</td>\n",
       "      <td>2</td>\n",
       "      <td>2</td>\n",
       "      <td>2</td>\n",
       "      <td>2</td>\n",
       "      <td>2</td>\n",
       "      <td>2</td>\n",
       "      <td>2</td>\n",
       "      <td>2</td>\n",
       "      <td>2</td>\n",
       "      <td>2</td>\n",
       "      <td>2</td>\n",
       "      <td>2</td>\n",
       "    </tr>\n",
       "    <tr>\n",
       "      <th>Emirates</th>\n",
       "      <td>2</td>\n",
       "      <td>2</td>\n",
       "      <td>2</td>\n",
       "      <td>2</td>\n",
       "      <td>2</td>\n",
       "      <td>2</td>\n",
       "      <td>2</td>\n",
       "      <td>2</td>\n",
       "      <td>2</td>\n",
       "      <td>2</td>\n",
       "      <td>2</td>\n",
       "      <td>2</td>\n",
       "      <td>2</td>\n",
       "    </tr>\n",
       "    <tr>\n",
       "      <th>Ethiopian Airlines</th>\n",
       "      <td>2</td>\n",
       "      <td>2</td>\n",
       "      <td>2</td>\n",
       "      <td>2</td>\n",
       "      <td>2</td>\n",
       "      <td>2</td>\n",
       "      <td>2</td>\n",
       "      <td>2</td>\n",
       "      <td>2</td>\n",
       "      <td>2</td>\n",
       "      <td>2</td>\n",
       "      <td>2</td>\n",
       "      <td>2</td>\n",
       "    </tr>\n",
       "    <tr>\n",
       "      <th>Etihad Airways</th>\n",
       "      <td>7</td>\n",
       "      <td>7</td>\n",
       "      <td>7</td>\n",
       "      <td>7</td>\n",
       "      <td>7</td>\n",
       "      <td>7</td>\n",
       "      <td>7</td>\n",
       "      <td>7</td>\n",
       "      <td>7</td>\n",
       "      <td>7</td>\n",
       "      <td>7</td>\n",
       "      <td>7</td>\n",
       "      <td>7</td>\n",
       "    </tr>\n",
       "    <tr>\n",
       "      <th>Flynas</th>\n",
       "      <td>3</td>\n",
       "      <td>3</td>\n",
       "      <td>3</td>\n",
       "      <td>3</td>\n",
       "      <td>3</td>\n",
       "      <td>3</td>\n",
       "      <td>3</td>\n",
       "      <td>3</td>\n",
       "      <td>3</td>\n",
       "      <td>3</td>\n",
       "      <td>3</td>\n",
       "      <td>3</td>\n",
       "      <td>3</td>\n",
       "    </tr>\n",
       "    <tr>\n",
       "      <th>Gulf Air</th>\n",
       "      <td>1</td>\n",
       "      <td>1</td>\n",
       "      <td>1</td>\n",
       "      <td>1</td>\n",
       "      <td>1</td>\n",
       "      <td>1</td>\n",
       "      <td>1</td>\n",
       "      <td>1</td>\n",
       "      <td>1</td>\n",
       "      <td>1</td>\n",
       "      <td>1</td>\n",
       "      <td>1</td>\n",
       "      <td>1</td>\n",
       "    </tr>\n",
       "    <tr>\n",
       "      <th>Iberia</th>\n",
       "      <td>4</td>\n",
       "      <td>4</td>\n",
       "      <td>4</td>\n",
       "      <td>4</td>\n",
       "      <td>4</td>\n",
       "      <td>4</td>\n",
       "      <td>4</td>\n",
       "      <td>4</td>\n",
       "      <td>4</td>\n",
       "      <td>4</td>\n",
       "      <td>4</td>\n",
       "      <td>4</td>\n",
       "      <td>4</td>\n",
       "    </tr>\n",
       "    <tr>\n",
       "      <th>JetBlue</th>\n",
       "      <td>10</td>\n",
       "      <td>10</td>\n",
       "      <td>10</td>\n",
       "      <td>10</td>\n",
       "      <td>10</td>\n",
       "      <td>10</td>\n",
       "      <td>10</td>\n",
       "      <td>10</td>\n",
       "      <td>10</td>\n",
       "      <td>10</td>\n",
       "      <td>10</td>\n",
       "      <td>10</td>\n",
       "      <td>10</td>\n",
       "    </tr>\n",
       "    <tr>\n",
       "      <th>Korean Air</th>\n",
       "      <td>1</td>\n",
       "      <td>1</td>\n",
       "      <td>1</td>\n",
       "      <td>1</td>\n",
       "      <td>1</td>\n",
       "      <td>1</td>\n",
       "      <td>1</td>\n",
       "      <td>1</td>\n",
       "      <td>1</td>\n",
       "      <td>1</td>\n",
       "      <td>1</td>\n",
       "      <td>1</td>\n",
       "      <td>1</td>\n",
       "    </tr>\n",
       "    <tr>\n",
       "      <th>LOT Polish Airlines</th>\n",
       "      <td>5</td>\n",
       "      <td>5</td>\n",
       "      <td>5</td>\n",
       "      <td>5</td>\n",
       "      <td>5</td>\n",
       "      <td>5</td>\n",
       "      <td>5</td>\n",
       "      <td>5</td>\n",
       "      <td>5</td>\n",
       "      <td>5</td>\n",
       "      <td>5</td>\n",
       "      <td>5</td>\n",
       "      <td>5</td>\n",
       "    </tr>\n",
       "    <tr>\n",
       "      <th>Lufthansa</th>\n",
       "      <td>9</td>\n",
       "      <td>9</td>\n",
       "      <td>9</td>\n",
       "      <td>9</td>\n",
       "      <td>9</td>\n",
       "      <td>9</td>\n",
       "      <td>9</td>\n",
       "      <td>9</td>\n",
       "      <td>9</td>\n",
       "      <td>9</td>\n",
       "      <td>9</td>\n",
       "      <td>9</td>\n",
       "      <td>9</td>\n",
       "    </tr>\n",
       "    <tr>\n",
       "      <th>Oman Air</th>\n",
       "      <td>3</td>\n",
       "      <td>3</td>\n",
       "      <td>3</td>\n",
       "      <td>3</td>\n",
       "      <td>3</td>\n",
       "      <td>3</td>\n",
       "      <td>3</td>\n",
       "      <td>3</td>\n",
       "      <td>3</td>\n",
       "      <td>3</td>\n",
       "      <td>3</td>\n",
       "      <td>3</td>\n",
       "      <td>3</td>\n",
       "    </tr>\n",
       "    <tr>\n",
       "      <th>Plusieurs compagnies</th>\n",
       "      <td>98</td>\n",
       "      <td>98</td>\n",
       "      <td>98</td>\n",
       "      <td>98</td>\n",
       "      <td>98</td>\n",
       "      <td>98</td>\n",
       "      <td>98</td>\n",
       "      <td>98</td>\n",
       "      <td>98</td>\n",
       "      <td>98</td>\n",
       "      <td>98</td>\n",
       "      <td>98</td>\n",
       "      <td>98</td>\n",
       "    </tr>\n",
       "    <tr>\n",
       "      <th>Qatar Airways</th>\n",
       "      <td>2</td>\n",
       "      <td>2</td>\n",
       "      <td>2</td>\n",
       "      <td>2</td>\n",
       "      <td>2</td>\n",
       "      <td>2</td>\n",
       "      <td>2</td>\n",
       "      <td>2</td>\n",
       "      <td>2</td>\n",
       "      <td>2</td>\n",
       "      <td>2</td>\n",
       "      <td>2</td>\n",
       "      <td>2</td>\n",
       "    </tr>\n",
       "    <tr>\n",
       "      <th>Royal Air Maroc</th>\n",
       "      <td>1</td>\n",
       "      <td>1</td>\n",
       "      <td>1</td>\n",
       "      <td>1</td>\n",
       "      <td>1</td>\n",
       "      <td>1</td>\n",
       "      <td>1</td>\n",
       "      <td>1</td>\n",
       "      <td>1</td>\n",
       "      <td>1</td>\n",
       "      <td>1</td>\n",
       "      <td>1</td>\n",
       "      <td>1</td>\n",
       "    </tr>\n",
       "    <tr>\n",
       "      <th>Ryanair</th>\n",
       "      <td>10</td>\n",
       "      <td>10</td>\n",
       "      <td>10</td>\n",
       "      <td>10</td>\n",
       "      <td>10</td>\n",
       "      <td>10</td>\n",
       "      <td>10</td>\n",
       "      <td>10</td>\n",
       "      <td>10</td>\n",
       "      <td>10</td>\n",
       "      <td>10</td>\n",
       "      <td>10</td>\n",
       "      <td>10</td>\n",
       "    </tr>\n",
       "    <tr>\n",
       "      <th>Saudia</th>\n",
       "      <td>1</td>\n",
       "      <td>1</td>\n",
       "      <td>1</td>\n",
       "      <td>1</td>\n",
       "      <td>1</td>\n",
       "      <td>1</td>\n",
       "      <td>1</td>\n",
       "      <td>1</td>\n",
       "      <td>1</td>\n",
       "      <td>1</td>\n",
       "      <td>1</td>\n",
       "      <td>1</td>\n",
       "      <td>1</td>\n",
       "    </tr>\n",
       "    <tr>\n",
       "      <th>Singapore Airlines</th>\n",
       "      <td>2</td>\n",
       "      <td>2</td>\n",
       "      <td>2</td>\n",
       "      <td>2</td>\n",
       "      <td>2</td>\n",
       "      <td>2</td>\n",
       "      <td>2</td>\n",
       "      <td>2</td>\n",
       "      <td>2</td>\n",
       "      <td>2</td>\n",
       "      <td>2</td>\n",
       "      <td>2</td>\n",
       "      <td>2</td>\n",
       "    </tr>\n",
       "    <tr>\n",
       "      <th>Swiss</th>\n",
       "      <td>3</td>\n",
       "      <td>3</td>\n",
       "      <td>3</td>\n",
       "      <td>3</td>\n",
       "      <td>3</td>\n",
       "      <td>3</td>\n",
       "      <td>3</td>\n",
       "      <td>3</td>\n",
       "      <td>3</td>\n",
       "      <td>3</td>\n",
       "      <td>3</td>\n",
       "      <td>3</td>\n",
       "      <td>3</td>\n",
       "    </tr>\n",
       "    <tr>\n",
       "      <th>TAP Air Portugal</th>\n",
       "      <td>7</td>\n",
       "      <td>7</td>\n",
       "      <td>7</td>\n",
       "      <td>7</td>\n",
       "      <td>7</td>\n",
       "      <td>7</td>\n",
       "      <td>7</td>\n",
       "      <td>7</td>\n",
       "      <td>7</td>\n",
       "      <td>7</td>\n",
       "      <td>7</td>\n",
       "      <td>7</td>\n",
       "      <td>7</td>\n",
       "    </tr>\n",
       "    <tr>\n",
       "      <th>Thai Airways</th>\n",
       "      <td>1</td>\n",
       "      <td>1</td>\n",
       "      <td>1</td>\n",
       "      <td>1</td>\n",
       "      <td>1</td>\n",
       "      <td>1</td>\n",
       "      <td>1</td>\n",
       "      <td>1</td>\n",
       "      <td>1</td>\n",
       "      <td>1</td>\n",
       "      <td>1</td>\n",
       "      <td>1</td>\n",
       "      <td>1</td>\n",
       "    </tr>\n",
       "    <tr>\n",
       "      <th>Turkish Airlines</th>\n",
       "      <td>1</td>\n",
       "      <td>1</td>\n",
       "      <td>1</td>\n",
       "      <td>1</td>\n",
       "      <td>1</td>\n",
       "      <td>1</td>\n",
       "      <td>1</td>\n",
       "      <td>1</td>\n",
       "      <td>1</td>\n",
       "      <td>1</td>\n",
       "      <td>1</td>\n",
       "      <td>1</td>\n",
       "      <td>1</td>\n",
       "    </tr>\n",
       "    <tr>\n",
       "      <th>Vueling</th>\n",
       "      <td>4</td>\n",
       "      <td>4</td>\n",
       "      <td>4</td>\n",
       "      <td>4</td>\n",
       "      <td>4</td>\n",
       "      <td>4</td>\n",
       "      <td>4</td>\n",
       "      <td>4</td>\n",
       "      <td>4</td>\n",
       "      <td>4</td>\n",
       "      <td>4</td>\n",
       "      <td>4</td>\n",
       "      <td>4</td>\n",
       "    </tr>\n",
       "    <tr>\n",
       "      <th rowspan=\"27\" valign=\"top\">True</th>\n",
       "      <th>Air Arabia</th>\n",
       "      <td>1</td>\n",
       "      <td>1</td>\n",
       "      <td>1</td>\n",
       "      <td>1</td>\n",
       "      <td>1</td>\n",
       "      <td>1</td>\n",
       "      <td>1</td>\n",
       "      <td>1</td>\n",
       "      <td>1</td>\n",
       "      <td>1</td>\n",
       "      <td>1</td>\n",
       "      <td>1</td>\n",
       "      <td>1</td>\n",
       "    </tr>\n",
       "    <tr>\n",
       "      <th>Air Baltic</th>\n",
       "      <td>3</td>\n",
       "      <td>3</td>\n",
       "      <td>3</td>\n",
       "      <td>3</td>\n",
       "      <td>3</td>\n",
       "      <td>3</td>\n",
       "      <td>3</td>\n",
       "      <td>3</td>\n",
       "      <td>3</td>\n",
       "      <td>3</td>\n",
       "      <td>3</td>\n",
       "      <td>3</td>\n",
       "      <td>3</td>\n",
       "    </tr>\n",
       "    <tr>\n",
       "      <th>Air Canada</th>\n",
       "      <td>1</td>\n",
       "      <td>1</td>\n",
       "      <td>1</td>\n",
       "      <td>1</td>\n",
       "      <td>1</td>\n",
       "      <td>1</td>\n",
       "      <td>1</td>\n",
       "      <td>1</td>\n",
       "      <td>1</td>\n",
       "      <td>1</td>\n",
       "      <td>1</td>\n",
       "      <td>1</td>\n",
       "      <td>1</td>\n",
       "    </tr>\n",
       "    <tr>\n",
       "      <th>Air France</th>\n",
       "      <td>3</td>\n",
       "      <td>3</td>\n",
       "      <td>3</td>\n",
       "      <td>3</td>\n",
       "      <td>3</td>\n",
       "      <td>3</td>\n",
       "      <td>3</td>\n",
       "      <td>3</td>\n",
       "      <td>3</td>\n",
       "      <td>3</td>\n",
       "      <td>3</td>\n",
       "      <td>3</td>\n",
       "      <td>3</td>\n",
       "    </tr>\n",
       "    <tr>\n",
       "      <th>Brussels Airlines</th>\n",
       "      <td>1</td>\n",
       "      <td>1</td>\n",
       "      <td>1</td>\n",
       "      <td>1</td>\n",
       "      <td>1</td>\n",
       "      <td>1</td>\n",
       "      <td>1</td>\n",
       "      <td>1</td>\n",
       "      <td>1</td>\n",
       "      <td>1</td>\n",
       "      <td>1</td>\n",
       "      <td>1</td>\n",
       "      <td>1</td>\n",
       "    </tr>\n",
       "    <tr>\n",
       "      <th>Delta Air Lines</th>\n",
       "      <td>12</td>\n",
       "      <td>12</td>\n",
       "      <td>12</td>\n",
       "      <td>12</td>\n",
       "      <td>12</td>\n",
       "      <td>12</td>\n",
       "      <td>12</td>\n",
       "      <td>12</td>\n",
       "      <td>12</td>\n",
       "      <td>12</td>\n",
       "      <td>12</td>\n",
       "      <td>12</td>\n",
       "      <td>12</td>\n",
       "    </tr>\n",
       "    <tr>\n",
       "      <th>Egyptair</th>\n",
       "      <td>1</td>\n",
       "      <td>1</td>\n",
       "      <td>1</td>\n",
       "      <td>1</td>\n",
       "      <td>1</td>\n",
       "      <td>1</td>\n",
       "      <td>1</td>\n",
       "      <td>1</td>\n",
       "      <td>1</td>\n",
       "      <td>1</td>\n",
       "      <td>1</td>\n",
       "      <td>1</td>\n",
       "      <td>1</td>\n",
       "    </tr>\n",
       "    <tr>\n",
       "      <th>Etihad Airways</th>\n",
       "      <td>2</td>\n",
       "      <td>2</td>\n",
       "      <td>2</td>\n",
       "      <td>2</td>\n",
       "      <td>2</td>\n",
       "      <td>2</td>\n",
       "      <td>2</td>\n",
       "      <td>2</td>\n",
       "      <td>2</td>\n",
       "      <td>2</td>\n",
       "      <td>2</td>\n",
       "      <td>2</td>\n",
       "      <td>2</td>\n",
       "    </tr>\n",
       "    <tr>\n",
       "      <th>Finnair</th>\n",
       "      <td>1</td>\n",
       "      <td>1</td>\n",
       "      <td>1</td>\n",
       "      <td>1</td>\n",
       "      <td>1</td>\n",
       "      <td>1</td>\n",
       "      <td>1</td>\n",
       "      <td>1</td>\n",
       "      <td>1</td>\n",
       "      <td>1</td>\n",
       "      <td>1</td>\n",
       "      <td>1</td>\n",
       "      <td>1</td>\n",
       "    </tr>\n",
       "    <tr>\n",
       "      <th>Flynas</th>\n",
       "      <td>3</td>\n",
       "      <td>3</td>\n",
       "      <td>3</td>\n",
       "      <td>3</td>\n",
       "      <td>3</td>\n",
       "      <td>3</td>\n",
       "      <td>3</td>\n",
       "      <td>3</td>\n",
       "      <td>3</td>\n",
       "      <td>3</td>\n",
       "      <td>3</td>\n",
       "      <td>3</td>\n",
       "      <td>3</td>\n",
       "    </tr>\n",
       "    <tr>\n",
       "      <th>Gulf Air</th>\n",
       "      <td>1</td>\n",
       "      <td>1</td>\n",
       "      <td>1</td>\n",
       "      <td>1</td>\n",
       "      <td>1</td>\n",
       "      <td>1</td>\n",
       "      <td>1</td>\n",
       "      <td>1</td>\n",
       "      <td>1</td>\n",
       "      <td>1</td>\n",
       "      <td>1</td>\n",
       "      <td>1</td>\n",
       "      <td>1</td>\n",
       "    </tr>\n",
       "    <tr>\n",
       "      <th>Iberia</th>\n",
       "      <td>3</td>\n",
       "      <td>3</td>\n",
       "      <td>3</td>\n",
       "      <td>3</td>\n",
       "      <td>3</td>\n",
       "      <td>3</td>\n",
       "      <td>3</td>\n",
       "      <td>3</td>\n",
       "      <td>3</td>\n",
       "      <td>3</td>\n",
       "      <td>3</td>\n",
       "      <td>3</td>\n",
       "      <td>3</td>\n",
       "    </tr>\n",
       "    <tr>\n",
       "      <th>Iberia Express</th>\n",
       "      <td>6</td>\n",
       "      <td>6</td>\n",
       "      <td>6</td>\n",
       "      <td>6</td>\n",
       "      <td>6</td>\n",
       "      <td>6</td>\n",
       "      <td>6</td>\n",
       "      <td>6</td>\n",
       "      <td>6</td>\n",
       "      <td>6</td>\n",
       "      <td>6</td>\n",
       "      <td>6</td>\n",
       "      <td>6</td>\n",
       "    </tr>\n",
       "    <tr>\n",
       "      <th>JetBlue</th>\n",
       "      <td>9</td>\n",
       "      <td>9</td>\n",
       "      <td>9</td>\n",
       "      <td>9</td>\n",
       "      <td>9</td>\n",
       "      <td>9</td>\n",
       "      <td>9</td>\n",
       "      <td>9</td>\n",
       "      <td>9</td>\n",
       "      <td>9</td>\n",
       "      <td>9</td>\n",
       "      <td>9</td>\n",
       "      <td>9</td>\n",
       "    </tr>\n",
       "    <tr>\n",
       "      <th>KLM</th>\n",
       "      <td>2</td>\n",
       "      <td>2</td>\n",
       "      <td>2</td>\n",
       "      <td>2</td>\n",
       "      <td>2</td>\n",
       "      <td>2</td>\n",
       "      <td>2</td>\n",
       "      <td>2</td>\n",
       "      <td>2</td>\n",
       "      <td>2</td>\n",
       "      <td>2</td>\n",
       "      <td>2</td>\n",
       "      <td>2</td>\n",
       "    </tr>\n",
       "    <tr>\n",
       "      <th>Korean Air</th>\n",
       "      <td>1</td>\n",
       "      <td>1</td>\n",
       "      <td>1</td>\n",
       "      <td>1</td>\n",
       "      <td>1</td>\n",
       "      <td>1</td>\n",
       "      <td>1</td>\n",
       "      <td>1</td>\n",
       "      <td>1</td>\n",
       "      <td>1</td>\n",
       "      <td>1</td>\n",
       "      <td>1</td>\n",
       "      <td>1</td>\n",
       "    </tr>\n",
       "    <tr>\n",
       "      <th>LOT Polish Airlines</th>\n",
       "      <td>3</td>\n",
       "      <td>3</td>\n",
       "      <td>3</td>\n",
       "      <td>3</td>\n",
       "      <td>3</td>\n",
       "      <td>3</td>\n",
       "      <td>3</td>\n",
       "      <td>3</td>\n",
       "      <td>3</td>\n",
       "      <td>3</td>\n",
       "      <td>3</td>\n",
       "      <td>3</td>\n",
       "      <td>3</td>\n",
       "    </tr>\n",
       "    <tr>\n",
       "      <th>Lufthansa</th>\n",
       "      <td>1</td>\n",
       "      <td>1</td>\n",
       "      <td>1</td>\n",
       "      <td>1</td>\n",
       "      <td>1</td>\n",
       "      <td>1</td>\n",
       "      <td>1</td>\n",
       "      <td>1</td>\n",
       "      <td>1</td>\n",
       "      <td>1</td>\n",
       "      <td>1</td>\n",
       "      <td>1</td>\n",
       "      <td>1</td>\n",
       "    </tr>\n",
       "    <tr>\n",
       "      <th>Plusieurs compagnies</th>\n",
       "      <td>81</td>\n",
       "      <td>81</td>\n",
       "      <td>81</td>\n",
       "      <td>81</td>\n",
       "      <td>81</td>\n",
       "      <td>81</td>\n",
       "      <td>81</td>\n",
       "      <td>81</td>\n",
       "      <td>81</td>\n",
       "      <td>81</td>\n",
       "      <td>81</td>\n",
       "      <td>81</td>\n",
       "      <td>81</td>\n",
       "    </tr>\n",
       "    <tr>\n",
       "      <th>Qatar Airways</th>\n",
       "      <td>4</td>\n",
       "      <td>4</td>\n",
       "      <td>4</td>\n",
       "      <td>4</td>\n",
       "      <td>4</td>\n",
       "      <td>4</td>\n",
       "      <td>4</td>\n",
       "      <td>4</td>\n",
       "      <td>4</td>\n",
       "      <td>4</td>\n",
       "      <td>4</td>\n",
       "      <td>4</td>\n",
       "      <td>4</td>\n",
       "    </tr>\n",
       "    <tr>\n",
       "      <th>Ryanair</th>\n",
       "      <td>15</td>\n",
       "      <td>15</td>\n",
       "      <td>15</td>\n",
       "      <td>15</td>\n",
       "      <td>15</td>\n",
       "      <td>15</td>\n",
       "      <td>15</td>\n",
       "      <td>15</td>\n",
       "      <td>15</td>\n",
       "      <td>15</td>\n",
       "      <td>15</td>\n",
       "      <td>15</td>\n",
       "      <td>15</td>\n",
       "    </tr>\n",
       "    <tr>\n",
       "      <th>Saudia</th>\n",
       "      <td>1</td>\n",
       "      <td>1</td>\n",
       "      <td>1</td>\n",
       "      <td>1</td>\n",
       "      <td>1</td>\n",
       "      <td>1</td>\n",
       "      <td>1</td>\n",
       "      <td>1</td>\n",
       "      <td>1</td>\n",
       "      <td>1</td>\n",
       "      <td>1</td>\n",
       "      <td>1</td>\n",
       "      <td>1</td>\n",
       "    </tr>\n",
       "    <tr>\n",
       "      <th>Swiss</th>\n",
       "      <td>1</td>\n",
       "      <td>1</td>\n",
       "      <td>1</td>\n",
       "      <td>1</td>\n",
       "      <td>1</td>\n",
       "      <td>1</td>\n",
       "      <td>1</td>\n",
       "      <td>1</td>\n",
       "      <td>1</td>\n",
       "      <td>1</td>\n",
       "      <td>1</td>\n",
       "      <td>1</td>\n",
       "      <td>1</td>\n",
       "    </tr>\n",
       "    <tr>\n",
       "      <th>TAP Air Portugal</th>\n",
       "      <td>6</td>\n",
       "      <td>6</td>\n",
       "      <td>6</td>\n",
       "      <td>6</td>\n",
       "      <td>6</td>\n",
       "      <td>6</td>\n",
       "      <td>6</td>\n",
       "      <td>6</td>\n",
       "      <td>6</td>\n",
       "      <td>6</td>\n",
       "      <td>6</td>\n",
       "      <td>6</td>\n",
       "      <td>6</td>\n",
       "    </tr>\n",
       "    <tr>\n",
       "      <th>Thai Airways</th>\n",
       "      <td>2</td>\n",
       "      <td>2</td>\n",
       "      <td>2</td>\n",
       "      <td>2</td>\n",
       "      <td>2</td>\n",
       "      <td>2</td>\n",
       "      <td>2</td>\n",
       "      <td>2</td>\n",
       "      <td>2</td>\n",
       "      <td>2</td>\n",
       "      <td>2</td>\n",
       "      <td>2</td>\n",
       "      <td>2</td>\n",
       "    </tr>\n",
       "    <tr>\n",
       "      <th>Vueling</th>\n",
       "      <td>3</td>\n",
       "      <td>3</td>\n",
       "      <td>3</td>\n",
       "      <td>3</td>\n",
       "      <td>3</td>\n",
       "      <td>3</td>\n",
       "      <td>3</td>\n",
       "      <td>3</td>\n",
       "      <td>3</td>\n",
       "      <td>3</td>\n",
       "      <td>3</td>\n",
       "      <td>3</td>\n",
       "      <td>3</td>\n",
       "    </tr>\n",
       "    <tr>\n",
       "      <th>Wizz Air</th>\n",
       "      <td>1</td>\n",
       "      <td>1</td>\n",
       "      <td>1</td>\n",
       "      <td>1</td>\n",
       "      <td>1</td>\n",
       "      <td>1</td>\n",
       "      <td>1</td>\n",
       "      <td>1</td>\n",
       "      <td>1</td>\n",
       "      <td>1</td>\n",
       "      <td>1</td>\n",
       "      <td>1</td>\n",
       "      <td>1</td>\n",
       "    </tr>\n",
       "  </tbody>\n",
       "</table>\n",
       "</div>"
      ],
      "text/plain": [
       "                                    Depart  Arrivé  Heure de départ  \\\n",
       "is_same_price Compagnies                                              \n",
       "False         Air Arabia                 1       1                1   \n",
       "              Air Canada                 5       5                5   \n",
       "              Air France                 4       4                4   \n",
       "              Air India                  4       4                4   \n",
       "              China Airlines             1       1                1   \n",
       "              Delta Air Lines            4       4                4   \n",
       "              Egyptair                   2       2                2   \n",
       "              Emirates                   2       2                2   \n",
       "              Ethiopian Airlines         2       2                2   \n",
       "              Etihad Airways             7       7                7   \n",
       "              Flynas                     3       3                3   \n",
       "              Gulf Air                   1       1                1   \n",
       "              Iberia                     4       4                4   \n",
       "              JetBlue                   10      10               10   \n",
       "              Korean Air                 1       1                1   \n",
       "              LOT Polish Airlines        5       5                5   \n",
       "              Lufthansa                  9       9                9   \n",
       "              Oman Air                   3       3                3   \n",
       "              Plusieurs compagnies      98      98               98   \n",
       "              Qatar Airways              2       2                2   \n",
       "              Royal Air Maroc            1       1                1   \n",
       "              Ryanair                   10      10               10   \n",
       "              Saudia                     1       1                1   \n",
       "              Singapore Airlines         2       2                2   \n",
       "              Swiss                      3       3                3   \n",
       "              TAP Air Portugal           7       7                7   \n",
       "              Thai Airways               1       1                1   \n",
       "              Turkish Airlines           1       1                1   \n",
       "              Vueling                    4       4                4   \n",
       "True          Air Arabia                 1       1                1   \n",
       "              Air Baltic                 3       3                3   \n",
       "              Air Canada                 1       1                1   \n",
       "              Air France                 3       3                3   \n",
       "              Brussels Airlines          1       1                1   \n",
       "              Delta Air Lines           12      12               12   \n",
       "              Egyptair                   1       1                1   \n",
       "              Etihad Airways             2       2                2   \n",
       "              Finnair                    1       1                1   \n",
       "              Flynas                     3       3                3   \n",
       "              Gulf Air                   1       1                1   \n",
       "              Iberia                     3       3                3   \n",
       "              Iberia Express             6       6                6   \n",
       "              JetBlue                    9       9                9   \n",
       "              KLM                        2       2                2   \n",
       "              Korean Air                 1       1                1   \n",
       "              LOT Polish Airlines        3       3                3   \n",
       "              Lufthansa                  1       1                1   \n",
       "              Plusieurs compagnies      81      81               81   \n",
       "              Qatar Airways              4       4                4   \n",
       "              Ryanair                   15      15               15   \n",
       "              Saudia                     1       1                1   \n",
       "              Swiss                      1       1                1   \n",
       "              TAP Air Portugal           6       6                6   \n",
       "              Thai Airways               2       2                2   \n",
       "              Vueling                    3       3                3   \n",
       "              Wizz Air                   1       1                1   \n",
       "\n",
       "                                    Heure d'arrivé  Date  Nombre d'escales  \\\n",
       "is_same_price Compagnies                                                     \n",
       "False         Air Arabia                         1     1                 1   \n",
       "              Air Canada                         5     5                 5   \n",
       "              Air France                         4     4                 4   \n",
       "              Air India                          4     4                 4   \n",
       "              China Airlines                     1     1                 1   \n",
       "              Delta Air Lines                    4     4                 4   \n",
       "              Egyptair                           2     2                 2   \n",
       "              Emirates                           2     2                 2   \n",
       "              Ethiopian Airlines                 2     2                 2   \n",
       "              Etihad Airways                     7     7                 7   \n",
       "              Flynas                             3     3                 3   \n",
       "              Gulf Air                           1     1                 1   \n",
       "              Iberia                             4     4                 4   \n",
       "              JetBlue                           10    10                10   \n",
       "              Korean Air                         1     1                 1   \n",
       "              LOT Polish Airlines                5     5                 5   \n",
       "              Lufthansa                          9     9                 9   \n",
       "              Oman Air                           3     3                 3   \n",
       "              Plusieurs compagnies              98    98                98   \n",
       "              Qatar Airways                      2     2                 2   \n",
       "              Royal Air Maroc                    1     1                 1   \n",
       "              Ryanair                           10    10                10   \n",
       "              Saudia                             1     1                 1   \n",
       "              Singapore Airlines                 2     2                 2   \n",
       "              Swiss                              3     3                 3   \n",
       "              TAP Air Portugal                   7     7                 7   \n",
       "              Thai Airways                       1     1                 1   \n",
       "              Turkish Airlines                   1     1                 1   \n",
       "              Vueling                            4     4                 4   \n",
       "True          Air Arabia                         1     1                 1   \n",
       "              Air Baltic                         3     3                 3   \n",
       "              Air Canada                         1     1                 1   \n",
       "              Air France                         3     3                 3   \n",
       "              Brussels Airlines                  1     1                 1   \n",
       "              Delta Air Lines                   12    12                12   \n",
       "              Egyptair                           1     1                 1   \n",
       "              Etihad Airways                     2     2                 2   \n",
       "              Finnair                            1     1                 1   \n",
       "              Flynas                             3     3                 3   \n",
       "              Gulf Air                           1     1                 1   \n",
       "              Iberia                             3     3                 3   \n",
       "              Iberia Express                     6     6                 6   \n",
       "              JetBlue                            9     9                 9   \n",
       "              KLM                                2     2                 2   \n",
       "              Korean Air                         1     1                 1   \n",
       "              LOT Polish Airlines                3     3                 3   \n",
       "              Lufthansa                          1     1                 1   \n",
       "              Plusieurs compagnies              81    81                81   \n",
       "              Qatar Airways                      4     4                 4   \n",
       "              Ryanair                           15    15                15   \n",
       "              Saudia                             1     1                 1   \n",
       "              Swiss                              1     1                 1   \n",
       "              TAP Air Portugal                   6     6                 6   \n",
       "              Thai Airways                       2     2                 2   \n",
       "              Vueling                            3     3                 3   \n",
       "              Wizz Air                           1     1                 1   \n",
       "\n",
       "                                    Temps de vol  Prix  VPN  dico_Prix  \\\n",
       "is_same_price Compagnies                                                 \n",
       "False         Air Arabia                       1     1    1          1   \n",
       "              Air Canada                       5     5    5          5   \n",
       "              Air France                       4     4    4          4   \n",
       "              Air India                        4     4    4          4   \n",
       "              China Airlines                   1     1    1          1   \n",
       "              Delta Air Lines                  4     4    4          4   \n",
       "              Egyptair                         2     2    2          2   \n",
       "              Emirates                         2     2    2          2   \n",
       "              Ethiopian Airlines               2     2    2          2   \n",
       "              Etihad Airways                   7     7    7          7   \n",
       "              Flynas                           3     3    3          3   \n",
       "              Gulf Air                         1     1    1          1   \n",
       "              Iberia                           4     4    4          4   \n",
       "              JetBlue                         10    10   10         10   \n",
       "              Korean Air                       1     1    1          1   \n",
       "              LOT Polish Airlines              5     5    5          5   \n",
       "              Lufthansa                        9     9    9          9   \n",
       "              Oman Air                         3     3    3          3   \n",
       "              Plusieurs compagnies            98    98   98         98   \n",
       "              Qatar Airways                    2     2    2          2   \n",
       "              Royal Air Maroc                  1     1    1          1   \n",
       "              Ryanair                         10    10   10         10   \n",
       "              Saudia                           1     1    1          1   \n",
       "              Singapore Airlines               2     2    2          2   \n",
       "              Swiss                            3     3    3          3   \n",
       "              TAP Air Portugal                 7     7    7          7   \n",
       "              Thai Airways                     1     1    1          1   \n",
       "              Turkish Airlines                 1     1    1          1   \n",
       "              Vueling                          4     4    4          4   \n",
       "True          Air Arabia                       1     1    1          1   \n",
       "              Air Baltic                       3     3    3          3   \n",
       "              Air Canada                       1     1    1          1   \n",
       "              Air France                       3     3    3          3   \n",
       "              Brussels Airlines                1     1    1          1   \n",
       "              Delta Air Lines                 12    12   12         12   \n",
       "              Egyptair                         1     1    1          1   \n",
       "              Etihad Airways                   2     2    2          2   \n",
       "              Finnair                          1     1    1          1   \n",
       "              Flynas                           3     3    3          3   \n",
       "              Gulf Air                         1     1    1          1   \n",
       "              Iberia                           3     3    3          3   \n",
       "              Iberia Express                   6     6    6          6   \n",
       "              JetBlue                          9     9    9          9   \n",
       "              KLM                              2     2    2          2   \n",
       "              Korean Air                       1     1    1          1   \n",
       "              LOT Polish Airlines              3     3    3          3   \n",
       "              Lufthansa                        1     1    1          1   \n",
       "              Plusieurs compagnies            81    81   81         81   \n",
       "              Qatar Airways                    4     4    4          4   \n",
       "              Ryanair                         15    15   15         15   \n",
       "              Saudia                           1     1    1          1   \n",
       "              Swiss                            1     1    1          1   \n",
       "              TAP Air Portugal                 6     6    6          6   \n",
       "              Thai Airways                     2     2    2          2   \n",
       "              Vueling                          3     3    3          3   \n",
       "              Wizz Air                         1     1    1          1   \n",
       "\n",
       "                                    dico_VPN_prix  prix_moyen_trajet  \\\n",
       "is_same_price Compagnies                                               \n",
       "False         Air Arabia                        1                  1   \n",
       "              Air Canada                        5                  5   \n",
       "              Air France                        4                  4   \n",
       "              Air India                         4                  4   \n",
       "              China Airlines                    1                  1   \n",
       "              Delta Air Lines                   4                  4   \n",
       "              Egyptair                          2                  2   \n",
       "              Emirates                          2                  2   \n",
       "              Ethiopian Airlines                2                  2   \n",
       "              Etihad Airways                    7                  7   \n",
       "              Flynas                            3                  3   \n",
       "              Gulf Air                          1                  1   \n",
       "              Iberia                            4                  4   \n",
       "              JetBlue                          10                 10   \n",
       "              Korean Air                        1                  1   \n",
       "              LOT Polish Airlines               5                  5   \n",
       "              Lufthansa                         9                  9   \n",
       "              Oman Air                          3                  3   \n",
       "              Plusieurs compagnies             98                 98   \n",
       "              Qatar Airways                     2                  2   \n",
       "              Royal Air Maroc                   1                  1   \n",
       "              Ryanair                          10                 10   \n",
       "              Saudia                            1                  1   \n",
       "              Singapore Airlines                2                  2   \n",
       "              Swiss                             3                  3   \n",
       "              TAP Air Portugal                  7                  7   \n",
       "              Thai Airways                      1                  1   \n",
       "              Turkish Airlines                  1                  1   \n",
       "              Vueling                           4                  4   \n",
       "True          Air Arabia                        1                  1   \n",
       "              Air Baltic                        3                  3   \n",
       "              Air Canada                        1                  1   \n",
       "              Air France                        3                  3   \n",
       "              Brussels Airlines                 1                  1   \n",
       "              Delta Air Lines                  12                 12   \n",
       "              Egyptair                          1                  1   \n",
       "              Etihad Airways                    2                  2   \n",
       "              Finnair                           1                  1   \n",
       "              Flynas                            3                  3   \n",
       "              Gulf Air                          1                  1   \n",
       "              Iberia                            3                  3   \n",
       "              Iberia Express                    6                  6   \n",
       "              JetBlue                           9                  9   \n",
       "              KLM                               2                  2   \n",
       "              Korean Air                        1                  1   \n",
       "              LOT Polish Airlines               3                  3   \n",
       "              Lufthansa                         1                  1   \n",
       "              Plusieurs compagnies             81                 81   \n",
       "              Qatar Airways                     4                  4   \n",
       "              Ryanair                          15                 15   \n",
       "              Saudia                            1                  1   \n",
       "              Swiss                             1                  1   \n",
       "              TAP Air Portugal                  6                  6   \n",
       "              Thai Airways                      2                  2   \n",
       "              Vueling                           3                  3   \n",
       "              Wizz Air                          1                  1   \n",
       "\n",
       "                                    prix_median_trajet  \n",
       "is_same_price Compagnies                                \n",
       "False         Air Arabia                             1  \n",
       "              Air Canada                             5  \n",
       "              Air France                             4  \n",
       "              Air India                              4  \n",
       "              China Airlines                         1  \n",
       "              Delta Air Lines                        4  \n",
       "              Egyptair                               2  \n",
       "              Emirates                               2  \n",
       "              Ethiopian Airlines                     2  \n",
       "              Etihad Airways                         7  \n",
       "              Flynas                                 3  \n",
       "              Gulf Air                               1  \n",
       "              Iberia                                 4  \n",
       "              JetBlue                               10  \n",
       "              Korean Air                             1  \n",
       "              LOT Polish Airlines                    5  \n",
       "              Lufthansa                              9  \n",
       "              Oman Air                               3  \n",
       "              Plusieurs compagnies                  98  \n",
       "              Qatar Airways                          2  \n",
       "              Royal Air Maroc                        1  \n",
       "              Ryanair                               10  \n",
       "              Saudia                                 1  \n",
       "              Singapore Airlines                     2  \n",
       "              Swiss                                  3  \n",
       "              TAP Air Portugal                       7  \n",
       "              Thai Airways                           1  \n",
       "              Turkish Airlines                       1  \n",
       "              Vueling                                4  \n",
       "True          Air Arabia                             1  \n",
       "              Air Baltic                             3  \n",
       "              Air Canada                             1  \n",
       "              Air France                             3  \n",
       "              Brussels Airlines                      1  \n",
       "              Delta Air Lines                       12  \n",
       "              Egyptair                               1  \n",
       "              Etihad Airways                         2  \n",
       "              Finnair                                1  \n",
       "              Flynas                                 3  \n",
       "              Gulf Air                               1  \n",
       "              Iberia                                 3  \n",
       "              Iberia Express                         6  \n",
       "              JetBlue                                9  \n",
       "              KLM                                    2  \n",
       "              Korean Air                             1  \n",
       "              LOT Polish Airlines                    3  \n",
       "              Lufthansa                              1  \n",
       "              Plusieurs compagnies                  81  \n",
       "              Qatar Airways                          4  \n",
       "              Ryanair                               15  \n",
       "              Saudia                                 1  \n",
       "              Swiss                                  1  \n",
       "              TAP Air Portugal                       6  \n",
       "              Thai Airways                           2  \n",
       "              Vueling                                3  \n",
       "              Wizz Air                               1  "
      ]
     },
     "execution_count": 11,
     "metadata": {},
     "output_type": "execute_result"
    }
   ],
   "source": [
    "test.groupby([\"is_same_price\",\"Compagnies\"]).count()"
   ]
  },
  {
   "attachments": {},
   "cell_type": "markdown",
   "metadata": {},
   "source": [
    "# Calcul de la différence par pays "
   ]
  },
  {
   "attachments": {},
   "cell_type": "markdown",
   "metadata": {},
   "source": [
    "## Moyenne"
   ]
  },
  {
   "cell_type": "code",
   "execution_count": 12,
   "metadata": {},
   "outputs": [],
   "source": [
    "df_calcul=test.copy()\n",
    "df_calcul=df_calcul[df_calcul[\"is_same_price\"]==False]\n",
    "df_calcul.reset_index(inplace=True,drop=True)"
   ]
  },
  {
   "cell_type": "code",
   "execution_count": 13,
   "metadata": {},
   "outputs": [
    {
     "data": {
      "text/plain": [
       "{'Cambodge': -29.31,\n",
       " 'Bangladesh': 56.17,\n",
       " 'Inde': 220.68,\n",
       " 'Moldavie': 162.5,\n",
       " 'Philippines': 218.29,\n",
       " 'Liechtenstein': -23.26,\n",
       " 'Luxembourg': -186.86,\n",
       " 'Macao': -241.49,\n",
       " 'Monaco': -268.43,\n",
       " 'Qatar': 91.84}"
      ]
     },
     "execution_count": 13,
     "metadata": {},
     "output_type": "execute_result"
    }
   ],
   "source": [
    "df.VPN.unique()\n",
    "\n",
    "dico_VPN_ecartMoyenne={}\n",
    "\n",
    "for i in df.VPN.unique():\n",
    "    dico_VPN_ecartMoyenne[i]=0\n",
    "dico_VPN_ecartMoyenne\n",
    "\n",
    "\n",
    "for l in range(len(df_calcul)):\n",
    "    for k,v in df_calcul.loc[l,\"dico_VPN_prix\"].items():\n",
    "        dico_VPN_ecartMoyenne[k]+=(v-df_calcul.loc[l,\"prix_moyen_trajet\"])\n",
    "\n",
    "for k,v in dico_VPN_ecartMoyenne.items():\n",
    "    dico_VPN_ecartMoyenne[k]=round(dico_VPN_ecartMoyenne[k],2)\n",
    "\n",
    "dico_VPN_ecartMoyenne"
   ]
  },
  {
   "cell_type": "code",
   "execution_count": 14,
   "metadata": {},
   "outputs": [
    {
     "data": {
      "text/plain": [
       "{'Cambodge': -0.15,\n",
       " 'Bangladesh': 0.28,\n",
       " 'Inde': 1.11,\n",
       " 'Moldavie': 0.82,\n",
       " 'Philippines': 1.1,\n",
       " 'Liechtenstein': -0.12,\n",
       " 'Luxembourg': -0.94,\n",
       " 'Macao': -1.22,\n",
       " 'Monaco': -1.36,\n",
       " 'Qatar': 0.46}"
      ]
     },
     "execution_count": 14,
     "metadata": {},
     "output_type": "execute_result"
    }
   ],
   "source": [
    "dico_VPN_ecartMoyenne_pondere={}\n",
    "\n",
    "for i in df.VPN.unique():\n",
    "    dico_VPN_ecartMoyenne_pondere[i]=0\n",
    "dico_VPN_ecartMoyenne_pondere\n",
    "\n",
    "for k,v in dico_VPN_ecartMoyenne.items():\n",
    "    dico_VPN_ecartMoyenne_pondere[k]=round(dico_VPN_ecartMoyenne[k]/len(df_calcul),2)\n",
    "\n",
    "\n",
    "dico_VPN_ecartMoyenne_pondere"
   ]
  },
  {
   "cell_type": "code",
   "execution_count": 15,
   "metadata": {},
   "outputs": [
    {
     "name": "stderr",
     "output_type": "stream",
     "text": [
      "c:\\Users\\romai\\anaconda3\\envs\\MLDAta\\lib\\site-packages\\scipy\\__init__.py:146: UserWarning: A NumPy version >=1.16.5 and <1.23.0 is required for this version of SciPy (detected version 1.23.3\n",
      "  warnings.warn(f\"A NumPy version >={np_minversion} and <{np_maxversion}\"\n"
     ]
    },
    {
     "data": {
      "text/plain": [
       "<BarContainer object of 10 artists>"
      ]
     },
     "execution_count": 15,
     "metadata": {},
     "output_type": "execute_result"
    },
    {
     "data": {
      "image/png": "[encoded data removed]",
      "text/plain": [
       "<Figure size 1440x720 with 1 Axes>"
      ]
     },
     "metadata": {
      "needs_background": "light"
     },
     "output_type": "display_data"
    }
   ],
   "source": [
    "import matplotlib.pyplot as plt\n",
    "import seaborn as sns\n",
    "# plot dico_VPN_ecartMoyenne_pondere and dico_VPN_ecartMoyenne\n",
    "plt.figure(figsize=(20,10))\n",
    "# plt.bar(dico_VPN_ecartMoyenne.keys(),dico_VPN_ecartMoyenne.values(),color=\"blue\",label=\"ecart moyen pondéré\")\n",
    "plt.bar(dico_VPN_ecartMoyenne_pondere.keys(),dico_VPN_ecartMoyenne_pondere.values(),color=\"red\",label=\"ecart moyen\")\n"
   ]
  },
  {
   "attachments": {},
   "cell_type": "markdown",
   "metadata": {},
   "source": [
    "## Mediane"
   ]
  },
  {
   "cell_type": "code",
   "execution_count": 16,
   "metadata": {},
   "outputs": [
    {
     "data": {
      "text/plain": [
       "{'Cambodge': -80.5,\n",
       " 'Bangladesh': 44.5,\n",
       " 'Inde': 167.5,\n",
       " 'Moldavie': 109.0,\n",
       " 'Philippines': 147.5,\n",
       " 'Liechtenstein': -33.5,\n",
       " 'Luxembourg': -177.0,\n",
       " 'Macao': -214.0,\n",
       " 'Monaco': -258.0,\n",
       " 'Qatar': 78.5}"
      ]
     },
     "execution_count": 16,
     "metadata": {},
     "output_type": "execute_result"
    }
   ],
   "source": [
    "dico_VPN_ecartMedianne={}\n",
    "\n",
    "for i in df.VPN.unique():\n",
    "    dico_VPN_ecartMedianne[i]=0\n",
    "dico_VPN_ecartMedianne\n",
    "\n",
    "\n",
    "for l in range(len(df_calcul)):\n",
    "    for k,v in df_calcul.loc[l,\"dico_VPN_prix\"].items():\n",
    "        dico_VPN_ecartMedianne[k]+=(v-df_calcul.loc[l,\"prix_median_trajet\"])\n",
    "\n",
    "for k,v in dico_VPN_ecartMedianne.items():\n",
    "    dico_VPN_ecartMedianne[k]=round(dico_VPN_ecartMedianne[k],2)\n",
    "\n",
    "dico_VPN_ecartMedianne"
   ]
  },
  {
   "cell_type": "code",
   "execution_count": 17,
   "metadata": {},
   "outputs": [
    {
     "data": {
      "text/plain": [
       "{'Cambodge': -0.41,\n",
       " 'Bangladesh': 0.22,\n",
       " 'Inde': 0.85,\n",
       " 'Moldavie': 0.55,\n",
       " 'Philippines': 0.74,\n",
       " 'Liechtenstein': -0.17,\n",
       " 'Luxembourg': -0.89,\n",
       " 'Macao': -1.08,\n",
       " 'Monaco': -1.3,\n",
       " 'Qatar': 0.4}"
      ]
     },
     "execution_count": 17,
     "metadata": {},
     "output_type": "execute_result"
    }
   ],
   "source": [
    "dico_VPN_ecartMedianne_pondere={}\n",
    "\n",
    "for i in df.VPN.unique():\n",
    "    dico_VPN_ecartMedianne_pondere[i]=0\n",
    "dico_VPN_ecartMoyenne_pondere\n",
    "\n",
    "for k,v in dico_VPN_ecartMedianne.items():\n",
    "    dico_VPN_ecartMedianne_pondere[k]=round(dico_VPN_ecartMedianne[k]/len(df_calcul),2)\n",
    "\n",
    "\n",
    "dico_VPN_ecartMedianne_pondere"
   ]
  },
  {
   "attachments": {},
   "cell_type": "markdown",
   "metadata": {},
   "source": [
    "## Plot"
   ]
  },
  {
   "cell_type": "code",
   "execution_count": 18,
   "metadata": {},
   "outputs": [],
   "source": [
    "Pays=df[[\"VPN\",\"PIB par habitant ($)\"]].drop_duplicates()\n",
    "Pays.reset_index(inplace=True,drop=True)"
   ]
  },
  {
   "cell_type": "code",
   "execution_count": 19,
   "metadata": {},
   "outputs": [
    {
     "data": {
      "text/plain": [
       "{'Cambodge': 4000,\n",
       " 'Bangladesh': 4200,\n",
       " 'Inde': 7200,\n",
       " 'Moldavie': 5700,\n",
       " 'Philippines': 8200,\n",
       " 'Liechtenstein': 139100,\n",
       " 'Luxembourg': 109100,\n",
       " 'Macao': 114400,\n",
       " 'Monaco': 115700,\n",
       " 'Qatar': 124900}"
      ]
     },
     "execution_count": 19,
     "metadata": {},
     "output_type": "execute_result"
    }
   ],
   "source": [
    "dico_PIB={}\n",
    "\n",
    "for i in range(len(Pays)):\n",
    "    dico_PIB[Pays.loc[i,\"VPN\"]]=Pays.loc[i,\"PIB par habitant ($)\"]\n",
    "dico_PIB"
   ]
  },
  {
   "cell_type": "code",
   "execution_count": 20,
   "metadata": {},
   "outputs": [],
   "source": [
    "dico_PIB\n",
    "dico_PIB=dict(sorted(dico_PIB.items(), key=lambda item: item[1]))"
   ]
  },
  {
   "cell_type": "code",
   "execution_count": 38,
   "metadata": {},
   "outputs": [],
   "source": [
    "liste_Moyenne=[]\n",
    "liste_MoyennePondere=[]\n",
    "liste_Median=[]\n",
    "liste_MedianPondere=[]\n",
    "\n",
    "liste_Pays=[]\n",
    "liste_PIB=[]\n",
    "\n",
    "\n",
    "for k in dico_PIB.keys():\n",
    "    liste_Moyenne.append(dico_VPN_ecartMoyenne[k])\n",
    "    liste_MoyennePondere.append(dico_VPN_ecartMoyenne_pondere[k])\n",
    "    liste_Median.append(dico_VPN_ecartMedianne[k])\n",
    "    liste_MedianPondere.append(dico_VPN_ecartMedianne_pondere[k])\n",
    "    liste_Pays.append(k)\n",
    "    liste_PIB.append(dico_PIB[k])\n",
    "\n"
   ]
  },
  {
   "cell_type": "code",
   "execution_count": 35,
   "metadata": {},
   "outputs": [
    {
     "data": {
      "text/html": [
       "<div>\n",
       "<style scoped>\n",
       "    .dataframe tbody tr th:only-of-type {\n",
       "        vertical-align: middle;\n",
       "    }\n",
       "\n",
       "    .dataframe tbody tr th {\n",
       "        vertical-align: top;\n",
       "    }\n",
       "\n",
       "    .dataframe thead th {\n",
       "        text-align: right;\n",
       "    }\n",
       "</style>\n",
       "<table border=\"1\" class=\"dataframe\">\n",
       "  <thead>\n",
       "    <tr style=\"text-align: right;\">\n",
       "      <th></th>\n",
       "      <th>liste_Pays</th>\n",
       "      <th>liste_PIB</th>\n",
       "      <th>liste_Moyenne</th>\n",
       "      <th>liste_MoyennePondere</th>\n",
       "      <th>liste_Median</th>\n",
       "      <th>liste_MedianPondere</th>\n",
       "    </tr>\n",
       "  </thead>\n",
       "  <tbody>\n",
       "    <tr>\n",
       "      <th>0</th>\n",
       "      <td>Cambodge</td>\n",
       "      <td>4000</td>\n",
       "      <td>-29.31</td>\n",
       "      <td>-0.15</td>\n",
       "      <td>-80.5</td>\n",
       "      <td>-0.41</td>\n",
       "    </tr>\n",
       "    <tr>\n",
       "      <th>1</th>\n",
       "      <td>Bangladesh</td>\n",
       "      <td>4200</td>\n",
       "      <td>56.17</td>\n",
       "      <td>0.28</td>\n",
       "      <td>44.5</td>\n",
       "      <td>0.22</td>\n",
       "    </tr>\n",
       "    <tr>\n",
       "      <th>2</th>\n",
       "      <td>Moldavie</td>\n",
       "      <td>5700</td>\n",
       "      <td>162.50</td>\n",
       "      <td>0.82</td>\n",
       "      <td>109.0</td>\n",
       "      <td>0.55</td>\n",
       "    </tr>\n",
       "    <tr>\n",
       "      <th>3</th>\n",
       "      <td>Inde</td>\n",
       "      <td>7200</td>\n",
       "      <td>220.68</td>\n",
       "      <td>1.11</td>\n",
       "      <td>167.5</td>\n",
       "      <td>0.85</td>\n",
       "    </tr>\n",
       "    <tr>\n",
       "      <th>4</th>\n",
       "      <td>Philippines</td>\n",
       "      <td>8200</td>\n",
       "      <td>218.29</td>\n",
       "      <td>1.10</td>\n",
       "      <td>147.5</td>\n",
       "      <td>0.74</td>\n",
       "    </tr>\n",
       "    <tr>\n",
       "      <th>5</th>\n",
       "      <td>Luxembourg</td>\n",
       "      <td>109100</td>\n",
       "      <td>-186.86</td>\n",
       "      <td>-0.94</td>\n",
       "      <td>-177.0</td>\n",
       "      <td>-0.89</td>\n",
       "    </tr>\n",
       "    <tr>\n",
       "      <th>6</th>\n",
       "      <td>Macao</td>\n",
       "      <td>114400</td>\n",
       "      <td>-241.49</td>\n",
       "      <td>-1.22</td>\n",
       "      <td>-214.0</td>\n",
       "      <td>-1.08</td>\n",
       "    </tr>\n",
       "    <tr>\n",
       "      <th>7</th>\n",
       "      <td>Monaco</td>\n",
       "      <td>115700</td>\n",
       "      <td>-268.43</td>\n",
       "      <td>-1.36</td>\n",
       "      <td>-258.0</td>\n",
       "      <td>-1.30</td>\n",
       "    </tr>\n",
       "    <tr>\n",
       "      <th>8</th>\n",
       "      <td>Qatar</td>\n",
       "      <td>124900</td>\n",
       "      <td>91.84</td>\n",
       "      <td>0.46</td>\n",
       "      <td>78.5</td>\n",
       "      <td>0.40</td>\n",
       "    </tr>\n",
       "    <tr>\n",
       "      <th>9</th>\n",
       "      <td>Liechtenstein</td>\n",
       "      <td>139100</td>\n",
       "      <td>-23.26</td>\n",
       "      <td>-0.12</td>\n",
       "      <td>-33.5</td>\n",
       "      <td>-0.17</td>\n",
       "    </tr>\n",
       "  </tbody>\n",
       "</table>\n",
       "</div>"
      ],
      "text/plain": [
       "      liste_Pays  liste_PIB  liste_Moyenne  liste_MoyennePondere  \\\n",
       "0       Cambodge       4000         -29.31                 -0.15   \n",
       "1     Bangladesh       4200          56.17                  0.28   \n",
       "2       Moldavie       5700         162.50                  0.82   \n",
       "3           Inde       7200         220.68                  1.11   \n",
       "4    Philippines       8200         218.29                  1.10   \n",
       "5     Luxembourg     109100        -186.86                 -0.94   \n",
       "6          Macao     114400        -241.49                 -1.22   \n",
       "7         Monaco     115700        -268.43                 -1.36   \n",
       "8          Qatar     124900          91.84                  0.46   \n",
       "9  Liechtenstein     139100         -23.26                 -0.12   \n",
       "\n",
       "   liste_Median  liste_MedianPondere  \n",
       "0         -80.5                -0.41  \n",
       "1          44.5                 0.22  \n",
       "2         109.0                 0.55  \n",
       "3         167.5                 0.85  \n",
       "4         147.5                 0.74  \n",
       "5        -177.0                -0.89  \n",
       "6        -214.0                -1.08  \n",
       "7        -258.0                -1.30  \n",
       "8          78.5                 0.40  \n",
       "9         -33.5                -0.17  "
      ]
     },
     "execution_count": 35,
     "metadata": {},
     "output_type": "execute_result"
    }
   ],
   "source": [
    "dico_test={\"liste_Pays\":liste_Pays,\n",
    "\"liste_PIB\":liste_PIB,\n",
    "\"liste_Moyenne\":liste_Moyenne,\n",
    "\"liste_MoyennePondere\":liste_MoyennePondere,\n",
    "\"liste_Median\":liste_Median,\n",
    "\"liste_MedianPondere\":liste_MedianPondere\n",
    "}\n",
    "\n",
    "df_test=pd.DataFrame(dico_test)\n",
    "df_test"
   ]
  },
  {
   "cell_type": "code",
   "execution_count": 42,
   "metadata": {},
   "outputs": [
    {
     "data": {
      "application/vnd.plotly.v1+json": {
       "config": {
        "plotlyServerURL": "https://plot.ly"
       },
       "data": [
        {
         "hovertemplate": "<b>%{hovertext}</b><br><br>liste_PIB=%{x}<br>liste_Moyenne=%{y}<extra></extra>",
         "hovertext": [
          "Cambodge",
          "Bangladesh",
          "Moldavie",
          "Inde",
          "Philippines",
          "Luxembourg",
          "Macao",
          "Monaco",
          "Qatar",
          "Liechtenstein"
         ],
         "legendgroup": "",
         "marker": {
          "color": "#636efa",
          "symbol": "circle"
         },
         "mode": "markers",
         "name": "",
         "orientation": "v",
         "showlegend": false,
         "type": "scatter",
         "x": [
          4000,
          4200,
          5700,
          7200,
          8200,
          109100,
          114400,
          115700,
          124900,
          139100
         ],
         "xaxis": "x",
         "y": [
          -29.31,
          56.17,
          162.5,
          220.68,
          218.29,
          -186.86,
          -241.49,
          -268.43,
          91.84,
          -23.26
         ],
         "yaxis": "y"
        }
       ],
       "layout": {
        "legend": {
         "tracegroupgap": 0
        },
        "margin": {
         "t": 60
        },
        "template": {
         "data": {
          "bar": [
           {
            "error_x": {
             "color": "#2a3f5f"
            },
            "error_y": {
             "color": "#2a3f5f"
            },
            "marker": {
             "line": {
              "color": "#E5ECF6",
              "width": 0.5
             },
             "pattern": {
              "fillmode": "overlay",
              "size": 10,
              "solidity": 0.2
             }
            },
            "type": "bar"
           }
          ],
          "barpolar": [
           {
            "marker": {
             "line": {
              "color": "#E5ECF6",
              "width": 0.5
             },
             "pattern": {
              "fillmode": "overlay",
              "size": 10,
              "solidity": 0.2
             }
            },
            "type": "barpolar"
           }
          ],
          "carpet": [
           {
            "aaxis": {
             "endlinecolor": "#2a3f5f",
             "gridcolor": "white",
             "linecolor": "white",
             "minorgridcolor": "white",
             "startlinecolor": "#2a3f5f"
            },
            "baxis": {
             "endlinecolor": "#2a3f5f",
             "gridcolor": "white",
             "linecolor": "white",
             "minorgridcolor": "white",
             "startlinecolor": "#2a3f5f"
            },
            "type": "carpet"
           }
          ],
          "choropleth": [
           {
            "colorbar": {
             "outlinewidth": 0,
             "ticks": ""
            },
            "type": "choropleth"
           }
          ],
          "contour": [
           {
            "colorbar": {
             "outlinewidth": 0,
             "ticks": ""
            },
            "colorscale": [
             [
              0,
              "#0d0887"
             ],
             [
              0.1111111111111111,
              "#46039f"
             ],
             [
              0.2222222222222222,
              "#7201a8"
             ],
             [
              0.3333333333333333,
              "#9c179e"
             ],
             [
              0.4444444444444444,
              "#bd3786"
             ],
             [
              0.5555555555555556,
              "#d8576b"
             ],
             [
              0.6666666666666666,
              "#ed7953"
             ],
             [
              0.7777777777777778,
              "#fb9f3a"
             ],
             [
              0.8888888888888888,
              "#fdca26"
             ],
             [
              1,
              "#f0f921"
             ]
            ],
            "type": "contour"
           }
          ],
          "contourcarpet": [
           {
            "colorbar": {
             "outlinewidth": 0,
             "ticks": ""
            },
            "type": "contourcarpet"
           }
          ],
          "heatmap": [
           {
            "colorbar": {
             "outlinewidth": 0,
             "ticks": ""
            },
            "colorscale": [
             [
              0,
              "#0d0887"
             ],
             [
              0.1111111111111111,
              "#46039f"
             ],
             [
              0.2222222222222222,
              "#7201a8"
             ],
             [
              0.3333333333333333,
              "#9c179e"
             ],
             [
              0.4444444444444444,
              "#bd3786"
             ],
             [
              0.5555555555555556,
              "#d8576b"
             ],
             [
              0.6666666666666666,
              "#ed7953"
             ],
             [
              0.7777777777777778,
              "#fb9f3a"
             ],
             [
              0.8888888888888888,
              "#fdca26"
             ],
             [
              1,
              "#f0f921"
             ]
            ],
            "type": "heatmap"
           }
          ],
          "heatmapgl": [
           {
            "colorbar": {
             "outlinewidth": 0,
             "ticks": ""
            },
            "colorscale": [
             [
              0,
              "#0d0887"
             ],
             [
              0.1111111111111111,
              "#46039f"
             ],
             [
              0.2222222222222222,
              "#7201a8"
             ],
             [
              0.3333333333333333,
              "#9c179e"
             ],
             [
              0.4444444444444444,
              "#bd3786"
             ],
             [
              0.5555555555555556,
              "#d8576b"
             ],
             [
              0.6666666666666666,
              "#ed7953"
             ],
             [
              0.7777777777777778,
              "#fb9f3a"
             ],
             [
              0.8888888888888888,
              "#fdca26"
             ],
             [
              1,
              "#f0f921"
             ]
            ],
            "type": "heatmapgl"
           }
          ],
          "histogram": [
           {
            "marker": {
             "pattern": {
              "fillmode": "overlay",
              "size": 10,
              "solidity": 0.2
             }
            },
            "type": "histogram"
           }
          ],
          "histogram2d": [
           {
            "colorbar": {
             "outlinewidth": 0,
             "ticks": ""
            },
            "colorscale": [
             [
              0,
              "#0d0887"
             ],
             [
              0.1111111111111111,
              "#46039f"
             ],
             [
              0.2222222222222222,
              "#7201a8"
             ],
             [
              0.3333333333333333,
              "#9c179e"
             ],
             [
              0.4444444444444444,
              "#bd3786"
             ],
             [
              0.5555555555555556,
              "#d8576b"
             ],
             [
              0.6666666666666666,
              "#ed7953"
             ],
             [
              0.7777777777777778,
              "#fb9f3a"
             ],
             [
              0.8888888888888888,
              "#fdca26"
             ],
             [
              1,
              "#f0f921"
             ]
            ],
            "type": "histogram2d"
           }
          ],
          "histogram2dcontour": [
           {
            "colorbar": {
             "outlinewidth": 0,
             "ticks": ""
            },
            "colorscale": [
             [
              0,
              "#0d0887"
             ],
             [
              0.1111111111111111,
              "#46039f"
             ],
             [
              0.2222222222222222,
              "#7201a8"
             ],
             [
              0.3333333333333333,
              "#9c179e"
             ],
             [
              0.4444444444444444,
              "#bd3786"
             ],
             [
              0.5555555555555556,
              "#d8576b"
             ],
             [
              0.6666666666666666,
              "#ed7953"
             ],
             [
              0.7777777777777778,
              "#fb9f3a"
             ],
             [
              0.8888888888888888,
              "#fdca26"
             ],
             [
              1,
              "#f0f921"
             ]
            ],
            "type": "histogram2dcontour"
           }
          ],
          "mesh3d": [
           {
            "colorbar": {
             "outlinewidth": 0,
             "ticks": ""
            },
            "type": "mesh3d"
           }
          ],
          "parcoords": [
           {
            "line": {
             "colorbar": {
              "outlinewidth": 0,
              "ticks": ""
             }
            },
            "type": "parcoords"
           }
          ],
          "pie": [
           {
            "automargin": true,
            "type": "pie"
           }
          ],
          "scatter": [
           {
            "fillpattern": {
             "fillmode": "overlay",
             "size": 10,
             "solidity": 0.2
            },
            "type": "scatter"
           }
          ],
          "scatter3d": [
           {
            "line": {
             "colorbar": {
              "outlinewidth": 0,
              "ticks": ""
             }
            },
            "marker": {
             "colorbar": {
              "outlinewidth": 0,
              "ticks": ""
             }
            },
            "type": "scatter3d"
           }
          ],
          "scattercarpet": [
           {
            "marker": {
             "colorbar": {
              "outlinewidth": 0,
              "ticks": ""
             }
            },
            "type": "scattercarpet"
           }
          ],
          "scattergeo": [
           {
            "marker": {
             "colorbar": {
              "outlinewidth": 0,
              "ticks": ""
             }
            },
            "type": "scattergeo"
           }
          ],
          "scattergl": [
           {
            "marker": {
             "colorbar": {
              "outlinewidth": 0,
              "ticks": ""
             }
            },
            "type": "scattergl"
           }
          ],
          "scattermapbox": [
           {
            "marker": {
             "colorbar": {
              "outlinewidth": 0,
              "ticks": ""
             }
            },
            "type": "scattermapbox"
           }
          ],
          "scatterpolar": [
           {
            "marker": {
             "colorbar": {
              "outlinewidth": 0,
              "ticks": ""
             }
            },
            "type": "scatterpolar"
           }
          ],
          "scatterpolargl": [
           {
            "marker": {
             "colorbar": {
              "outlinewidth": 0,
              "ticks": ""
             }
            },
            "type": "scatterpolargl"
           }
          ],
          "scatterternary": [
           {
            "marker": {
             "colorbar": {
              "outlinewidth": 0,
              "ticks": ""
             }
            },
            "type": "scatterternary"
           }
          ],
          "surface": [
           {
            "colorbar": {
             "outlinewidth": 0,
             "ticks": ""
            },
            "colorscale": [
             [
              0,
              "#0d0887"
             ],
             [
              0.1111111111111111,
              "#46039f"
             ],
             [
              0.2222222222222222,
              "#7201a8"
             ],
             [
              0.3333333333333333,
              "#9c179e"
             ],
             [
              0.4444444444444444,
              "#bd3786"
             ],
             [
              0.5555555555555556,
              "#d8576b"
             ],
             [
              0.6666666666666666,
              "#ed7953"
             ],
             [
              0.7777777777777778,
              "#fb9f3a"
             ],
             [
              0.8888888888888888,
              "#fdca26"
             ],
             [
              1,
              "#f0f921"
             ]
            ],
            "type": "surface"
           }
          ],
          "table": [
           {
            "cells": {
             "fill": {
              "color": "#EBF0F8"
             },
             "line": {
              "color": "white"
             }
            },
            "header": {
             "fill": {
              "color": "#C8D4E3"
             },
             "line": {
              "color": "white"
             }
            },
            "type": "table"
           }
          ]
         },
         "layout": {
          "annotationdefaults": {
           "arrowcolor": "#2a3f5f",
           "arrowhead": 0,
           "arrowwidth": 1
          },
          "autotypenumbers": "strict",
          "coloraxis": {
           "colorbar": {
            "outlinewidth": 0,
            "ticks": ""
           }
          },
          "colorscale": {
           "diverging": [
            [
             0,
             "#8e0152"
            ],
            [
             0.1,
             "#c51b7d"
            ],
            [
             0.2,
             "#de77ae"
            ],
            [
             0.3,
             "#f1b6da"
            ],
            [
             0.4,
             "#fde0ef"
            ],
            [
             0.5,
             "#f7f7f7"
            ],
            [
             0.6,
             "#e6f5d0"
            ],
            [
             0.7,
             "#b8e186"
            ],
            [
             0.8,
             "#7fbc41"
            ],
            [
             0.9,
             "#4d9221"
            ],
            [
             1,
             "#276419"
            ]
           ],
           "sequential": [
            [
             0,
             "#0d0887"
            ],
            [
             0.1111111111111111,
             "#46039f"
            ],
            [
             0.2222222222222222,
             "#7201a8"
            ],
            [
             0.3333333333333333,
             "#9c179e"
            ],
            [
             0.4444444444444444,
             "#bd3786"
            ],
            [
             0.5555555555555556,
             "#d8576b"
            ],
            [
             0.6666666666666666,
             "#ed7953"
            ],
            [
             0.7777777777777778,
             "#fb9f3a"
            ],
            [
             0.8888888888888888,
             "#fdca26"
            ],
            [
             1,
             "#f0f921"
            ]
           ],
           "sequentialminus": [
            [
             0,
             "#0d0887"
            ],
            [
             0.1111111111111111,
             "#46039f"
            ],
            [
             0.2222222222222222,
             "#7201a8"
            ],
            [
             0.3333333333333333,
             "#9c179e"
            ],
            [
             0.4444444444444444,
             "#bd3786"
            ],
            [
             0.5555555555555556,
             "#d8576b"
            ],
            [
             0.6666666666666666,
             "#ed7953"
            ],
            [
             0.7777777777777778,
             "#fb9f3a"
            ],
            [
             0.8888888888888888,
             "#fdca26"
            ],
            [
             1,
             "#f0f921"
            ]
           ]
          },
          "colorway": [
           "#636efa",
           "#EF553B",
           "#00cc96",
           "#ab63fa",
           "#FFA15A",
           "#19d3f3",
           "#FF6692",
           "#B6E880",
           "#FF97FF",
           "#FECB52"
          ],
          "font": {
           "color": "#2a3f5f"
          },
          "geo": {
           "bgcolor": "white",
           "lakecolor": "white",
           "landcolor": "#E5ECF6",
           "showlakes": true,
           "showland": true,
           "subunitcolor": "white"
          },
          "hoverlabel": {
           "align": "left"
          },
          "hovermode": "closest",
          "mapbox": {
           "style": "light"
          },
          "paper_bgcolor": "white",
          "plot_bgcolor": "#E5ECF6",
          "polar": {
           "angularaxis": {
            "gridcolor": "white",
            "linecolor": "white",
            "ticks": ""
           },
           "bgcolor": "#E5ECF6",
           "radialaxis": {
            "gridcolor": "white",
            "linecolor": "white",
            "ticks": ""
           }
          },
          "scene": {
           "xaxis": {
            "backgroundcolor": "#E5ECF6",
            "gridcolor": "white",
            "gridwidth": 2,
            "linecolor": "white",
            "showbackground": true,
            "ticks": "",
            "zerolinecolor": "white"
           },
           "yaxis": {
            "backgroundcolor": "#E5ECF6",
            "gridcolor": "white",
            "gridwidth": 2,
            "linecolor": "white",
            "showbackground": true,
            "ticks": "",
            "zerolinecolor": "white"
           },
           "zaxis": {
            "backgroundcolor": "#E5ECF6",
            "gridcolor": "white",
            "gridwidth": 2,
            "linecolor": "white",
            "showbackground": true,
            "ticks": "",
            "zerolinecolor": "white"
           }
          },
          "shapedefaults": {
           "line": {
            "color": "#2a3f5f"
           }
          },
          "ternary": {
           "aaxis": {
            "gridcolor": "white",
            "linecolor": "white",
            "ticks": ""
           },
           "baxis": {
            "gridcolor": "white",
            "linecolor": "white",
            "ticks": ""
           },
           "bgcolor": "#E5ECF6",
           "caxis": {
            "gridcolor": "white",
            "linecolor": "white",
            "ticks": ""
           }
          },
          "title": {
           "x": 0.05
          },
          "xaxis": {
           "automargin": true,
           "gridcolor": "white",
           "linecolor": "white",
           "ticks": "",
           "title": {
            "standoff": 15
           },
           "zerolinecolor": "white",
           "zerolinewidth": 2
          },
          "yaxis": {
           "automargin": true,
           "gridcolor": "white",
           "linecolor": "white",
           "ticks": "",
           "title": {
            "standoff": 15
           },
           "zerolinecolor": "white",
           "zerolinewidth": 2
          }
         }
        },
        "title": {
         "text": "Automatic Labels Based on Data Frame Column Names",
         "x": 0.5
        },
        "xaxis": {
         "anchor": "y",
         "domain": [
          0,
          1
         ],
         "title": {
          "text": "liste_PIB"
         }
        },
        "yaxis": {
         "anchor": "x",
         "domain": [
          0,
          1
         ],
         "title": {
          "text": "liste_Moyenne"
         }
        }
       }
      }
     },
     "metadata": {},
     "output_type": "display_data"
    }
   ],
   "source": [
    "import plotly.express as px\n",
    "\n",
    "fig = px.scatter(df_test, x=\"liste_PIB\", y=\"liste_Moyenne\",hover_name=\"liste_Pays\",)\n",
    "fig.update_layout(title=\"Automatic Labels Based on Data Frame Column Names\", title_x=0.5)\n",
    "fig.show()"
   ]
  },
  {
   "cell_type": "code",
   "execution_count": 22,
   "metadata": {},
   "outputs": [
    {
     "data": {
      "text/plain": [
       "[<matplotlib.lines.Line2D at 0x1dc83b1c910>]"
      ]
     },
     "execution_count": 22,
     "metadata": {},
     "output_type": "execute_result"
    },
    {
     "data": {
      "image/png": "[encoded data removed]",
      "text/plain": [
       "<Figure size 432x288 with 1 Axes>"
      ]
     },
     "metadata": {
      "needs_background": "light"
     },
     "output_type": "display_data"
    }
   ],
   "source": [
    "import matplotlib.pyplot as plt \n",
    "\n",
    "plt.plot(liste_PIB,liste_Moyenne)"
   ]
  },
  {
   "cell_type": "code",
   "execution_count": 23,
   "metadata": {},
   "outputs": [
    {
     "data": {
      "text/plain": [
       "[<matplotlib.lines.Line2D at 0x1dc833f0430>]"
      ]
     },
     "execution_count": 23,
     "metadata": {},
     "output_type": "execute_result"
    },
    {
     "data": {
      "image/png": "[encoded data removed]",
      "text/plain": [
       "<Figure size 432x288 with 1 Axes>"
      ]
     },
     "metadata": {
      "needs_background": "light"
     },
     "output_type": "display_data"
    }
   ],
   "source": [
    "plt.plot(liste_PIB,liste_Median)"
   ]
  },
  {
   "cell_type": "code",
   "execution_count": 32,
   "metadata": {},
   "outputs": [
    {
     "data": {
      "image/png": "[encoded data removed]",
      "text/plain": [
       "<Figure size 432x288 with 1 Axes>"
      ]
     },
     "metadata": {
      "needs_background": "light"
     },
     "output_type": "display_data"
    }
   ],
   "source": [
    "fig=plt.figure()\n",
    "ax=fig.add_axes([0,0,1,1])\n",
    "ax.scatter(liste_PIB, liste_MedianPondere, color='r')\n",
    "\n",
    "ax.set_xlabel('Ecart a la medianne de chaque trajet')\n",
    "ax.set_ylabel('Grades Scored')\n",
    "ax.set_title('scatter plot')\n",
    "plt.show()"
   ]
  }
 ],
 "metadata": {
  "kernelspec": {
   "display_name": "base",
   "language": "python",
   "name": "python3"
  },
  "language_info": {
   "codemirror_mode": {
    "name": "ipython",
    "version": 3
   },
   "file_extension": ".py",
   "mimetype": "text/x-python",
   "name": "python",
   "nbconvert_exporter": "python",
   "pygments_lexer": "ipython3",
   "version": "3.9.12 (main, Apr  4 2022, 05:22:27) [MSC v.1916 64 bit (AMD64)]"
  },
  "orig_nbformat": 4,
  "vscode": {
   "interpreter": {
    "hash": "72db1283cdc3edc3e05ca6272062c06a23afc2ae71a79b6442f05a0b53e87d43"
   }
  }
 },
 "nbformat": 4,
 "nbformat_minor": 2
}
