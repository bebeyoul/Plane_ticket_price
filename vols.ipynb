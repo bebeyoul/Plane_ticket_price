{
 "cells": [
  {
   "attachments": {},
   "cell_type": "markdown",
   "metadata": {},
   "source": [
    "# Scrappe des vols sur liligo"
   ]
  },
  {
   "attachments": {},
   "cell_type": "markdown",
   "metadata": {},
   "source": [
    "Voyages recherchés:\n",
    "1.\tAéroport de Paris Charles de Gaulle, Paris, France – Aéroport international de Narita, Tokyo, Japon (France, Japon)\n",
    "2.\tAéroport de Paris Charles de Gaulle, Paris, France – Aéroport international John F. Kennedy, New York, NY, Etats-Unis (France, US)\n",
    "3.\tAéroport international Mohammed-V de Casablanca, Casablanca, Maroc – Aéroport international de Gatwick, Londres, Angleterre, Royaume-Uni (Maroc, Angleterre)\n",
    "4.\tAéroport Léonard de Vinci de Rome-Fiumicino, Rome, Italie - Aéroport international OR Tambo, Johannesbourg, Afrique du sud (Italie, Afrique du sud)\n",
    "5.\tToronto, ON, Canada -  Athènes, Grèce (Canada – Grèce)\n",
    "6.\tAéroport international de Riga, Riga, Lettonie - Vienna Schwechat International Airport, Vienne, Autriche (Lettonie – Autriche)\n",
    "7.\tAéroport international du Caire, Le Caire, Egypte - Chhatrapati Shivaji International Airport, Mumbai, Maharashtra, Inde (Egypte – Inde)\n",
    "8.\tAéroport Adolfo-Suárez de Madrid-Barajas, Madrid, Madrid, Espagne – Aéroport international Reina Sofía de Tenerife Sud, Ténérife, Îles Canaries, Espagne (Espagne - îles Canarie - Espagne)\n",
    "9.\tAéroport international John F. Kennedy, New York, NY, Etats-Unis – Aéroport international de Los Angeles, Los Angeles, CA, Etats-Unis (US - US)\n",
    "10.\tAéroport de Paris Charles de Gaulle, Paris, France – Aéroport Kingsford Smith de Sydney, Sydney, Nouvelles Galles du Sud, Australie (France – Australie)"
   ]
  },
  {
   "attachments": {},
   "cell_type": "markdown",
   "metadata": {},
   "source": [
    "Pays où on pose le VPN :\n",
    "1. Cambodge\n",
    "2. Bangladesh\n",
    "3. Moldavie\n",
    "4. Inde\n",
    "5. Philippines\n",
    "6. Maroc\n",
    "7. Ukraine\n",
    "8. Arménie\n",
    "9. Géorgie\n",
    "10. Bosnie-Herzégovine\n",
    "11. Suisse\n",
    "12. Norvège\n",
    "13. Irlande\n",
    "14. Île de Man\n",
    "15. Singapour\n",
    "16. Luxembourg\n",
    "17. Macao\n",
    "18. Monaco\n",
    "19. Qatar\n",
    "20. Liechtenstein"
   ]
  },
  {
   "cell_type": "code",
   "execution_count": 1,
   "metadata": {},
   "outputs": [],
   "source": [
    "import urllib\n",
    "import bs4\n",
    "from bs4 import BeautifulSoup\n",
    "from urllib import request\n",
    "import requests\n",
    "import pandas as pd\n",
    "\n",
    "from selenium import webdriver\n",
    "from selenium.webdriver.chrome.options import Options\n",
    "import os\n",
    "\n",
    "from selenium.webdriver.common.keys import Keys\n",
    "from selenium.webdriver.common.by import By"
   ]
  },
  {
   "cell_type": "code",
   "execution_count": 379,
   "metadata": {},
   "outputs": [],
   "source": [
    "liste_des_vols = [[\"Aéroport de Paris Charles de Gaulle, Paris, France\",\"Aéroport international de Narita, Tokyo, Japon\"],\n",
    "[\"Aéroport de Paris Charles de Gaulle, Paris, France\",\"Aéroport international John F. Kennedy, New York, NY, Etats-Unis\"],\n",
    "[\"Aéroport international Mohammed-V de Casablanca, Casablanca, Maroc\",\"Aéroport international de Gatwick, Londres, Angleterre, Royaume-Uni\"],\n",
    "[\"Aéroport Léonard de Vinci de Rome-Fiumicino, Rome, Italie\",\"Aéroport international OR Tambo, Johannesbourg, Afrique du sud\"],\n",
    "[\"Toronto, ON, Canada\",\"Athènes, Grèce\"],\n",
    "[\"Aéroport international de Riga, Riga, Lettonie\",\"Vienna Schwechat International Airport, Vienne, Autriche\"],\n",
    "[\"Aéroport international du Caire, Le Caire, Egypte\",\"Chhatrapati Shivaji International Airport, Mumbai, Maharashtra, Inde\"],\n",
    "[\"Aéroport Adolfo-Suárez de Madrid-Barajas, Madrid, Madrid, Espagne\",\"Aéroport international Reina Sofía de Tenerife Sud, Ténérife, Îles Canaries, Espagne\"],\n",
    "[\"Aéroport international John F. Kennedy, New York, NY, Etats-Unis\",\"Aéroport international de Los Angeles, Los Angeles, CA, Etats-Unis\"],\n",
    "[\"Aéroport de Paris Charles de Gaulle, Paris, France\",\"Aéroport Kingsford Smith de Sydney, Sydney, Nouvelles Galles du Sud, Australie\"]]"
   ]
  },
  {
   "attachments": {},
   "cell_type": "markdown",
   "metadata": {},
   "source": [
    "## Automatisation de la recherche - Phantoms"
   ]
  },
  {
   "attachments": {},
   "cell_type": "markdown",
   "metadata": {},
   "source": [
    "### Vairables"
   ]
  },
  {
   "cell_type": "code",
   "execution_count": 2,
   "metadata": {},
   "outputs": [],
   "source": [
    "vpn = \"Cambodge\"\n",
    "depart = \"Aéroport de Paris Charles de Gaulle, Paris, France\"\n",
    "arrive = \"Aéroport international de Narita, Tokyo, Japon\""
   ]
  },
  {
   "attachments": {},
   "cell_type": "markdown",
   "metadata": {},
   "source": [
    "### Fonctions"
   ]
  },
  {
   "cell_type": "code",
   "execution_count": 3,
   "metadata": {},
   "outputs": [],
   "source": [
    "def write_on_webpage(xPATH_of_field_to_complet, driver, value_to_enter):\n",
    "    field = driver.find_element(By.XPATH, xPATH_of_field_to_complet)\n",
    "    # supprimer la valeur précédentes\n",
    "    field.clear()\n",
    "    # ecrire dans mon champs\n",
    "    field.send_keys(value_to_enter)\n",
    "    field.click()\n",
    "    # valider la valeur qui est dans mon champs\n",
    "    field.send_keys(Keys.RETURN)\n",
    "\n",
    "def click_on_webpage(xPATH_of_field_to_complet, driver):\n",
    "    field = driver.find_element(By.XPATH, xPATH_of_field_to_complet)\n",
    "    field.click()"
   ]
  },
  {
   "attachments": {},
   "cell_type": "markdown",
   "metadata": {},
   "source": [
    "### Code"
   ]
  },
  {
   "cell_type": "code",
   "execution_count": 5,
   "metadata": {},
   "outputs": [],
   "source": [
    "# Set the location of the webdriver\n",
    "url = \"https://www.liligo.fr/servlet/render?path=/air/results&searchIndex=0&searchId=AAEBAQH__w#/air/results\"\n",
    "driver = webdriver.Chrome(\"C:/chromedriver_win32/chromedriver.exe\")\n",
    "driver.get(url)\n",
    "html = driver.page_source"
   ]
  },
  {
   "cell_type": "code",
   "execution_count": 22,
   "metadata": {},
   "outputs": [],
   "source": [
    "xPATH_allerSimple = \"//*[@id='liligo_content']/flight-form/div[1]/div[1]/div/div/div[2]\"\n",
    "allerSimple = click_on_webpage(xPATH_allerSimple, driver)"
   ]
  },
  {
   "cell_type": "code",
   "execution_count": 23,
   "metadata": {},
   "outputs": [],
   "source": [
    "xPATH_depart = \"//*[@id='flight-comploc-from']/div/div[1]/input\"\n",
    "depart_field = write_on_webpage(xPATH_depart, driver, depart)"
   ]
  },
  {
   "cell_type": "code",
   "execution_count": 24,
   "metadata": {},
   "outputs": [],
   "source": [
    "xPATH_arrive = \"//*[@id='flight-comploc-to']/div/div[1]/input\"\n",
    "arrive_field = write_on_webpage(xPATH_arrive, driver, arrive)"
   ]
  },
  {
   "cell_type": "code",
   "execution_count": 25,
   "metadata": {},
   "outputs": [],
   "source": [
    "xPATH_compare_button = \"//*[@id='liligo_content']/flight-form/div[1]/div[2]/button[3]\"\n",
    "compare_button = click_on_webpage(xPATH_compare_button, driver)"
   ]
  },
  {
   "attachments": {},
   "cell_type": "markdown",
   "metadata": {},
   "source": [
    "### Gérer la selection de la date"
   ]
  },
  {
   "cell_type": "code",
   "execution_count": null,
   "metadata": {},
   "outputs": [],
   "source": [
    "# xPATH_date = \"//*[@id='flight-calendar']/div[2]/div[4]/div[2]/div[2]/div[2]/ul/li[37]\"\n",
    "# xPATH_date_day = \"//*[@id='flight-datepicker-dep']/div/div/div[1]\"\n",
    "# xPATH_date_test = \"//*[@id='flight-datepicker-dep']/div/div/div[2]/small[1]\"\n",
    "# # date_field = click_on_webpage(xPATH_date, driver)\n",
    "# date_field = driver.find_element(By.XPATH, xPATH_date_test)\n",
    "# date_field.click()"
   ]
  },
  {
   "attachments": {},
   "cell_type": "markdown",
   "metadata": {},
   "source": [
    "## Prendre les 10 premiers vols"
   ]
  },
  {
   "cell_type": "code",
   "execution_count": 26,
   "metadata": {},
   "outputs": [],
   "source": [
    "list_info_vols = []\n",
    "for i in range(1, 6):\n",
    "    list_info_vol = []\n",
    "    list_info_vol.append(vpn)\n",
    "    list_info_vol.append(depart)\n",
    "    list_info_vol.append(arrive)\n",
    "\n",
    "    xPATH_price = \"//*[@id='liligo_content']/flight-results/div/div/div[2]/div[5]/div/div[7]/div[\"+str(i)+ \"]/travel-result-item/div/div[3]/div[2]/div[1]\"\n",
    "    field_price = driver.find_element(By.XPATH, xPATH_price).text\n",
    "    list_info_vol.append(field_price)\n",
    "\n",
    "    xPATH_time = \"//*[@id='liligo_content']/flight-results/div/div/div[2]/div[5]/div/div[7]/div[\"+str(i)+ \"]/travel-result-item/div/div[1]/div[1]/item-timing/div/div/div[2]/div[1]/span[2]\"\n",
    "    field_time = driver.find_element(By.XPATH, xPATH_time).text\n",
    "    list_info_vol.append(field_time)\n",
    "\n",
    "    xPATH_depart_time = \"//*[@id='liligo_content']/flight-results/div/div/div[2]/div[5]/div/div[7]/div[\"+str(i)+ \"]/travel-result-item/div/div[1]/div[1]/item-timing/div/div/div[1]/div[1]\"\n",
    "    field_depart_time = driver.find_element(By.XPATH, xPATH_depart_time).text\n",
    "    list_info_vol.append(field_depart_time)\n",
    "\n",
    "    xPATH_arrival_time = \"//*[@id='liligo_content']/flight-results/div/div/div[2]/div[5]/div/div[7]/div[\"+str(i)+ \"]/travel-result-item/div/div[1]/div[1]/item-timing/div/div/div[3]/div[1]/span\"\n",
    "    field_arrival_time = driver.find_element(By.XPATH, xPATH_arrival_time).text\n",
    "    list_info_vol.append(field_arrival_time)\n",
    "\n",
    "    xPATH_nb_escale = \"//*[@id='liligo_content']/flight-results/div/div/div[2]/div[5]/div/div[7]/div[\"+str(i)+ \"]/travel-result-item/div/div[1]/div[1]/item-timing/div/div/div[2]/div[1]/span[1]\"\n",
    "    field_nb_escale = driver.find_element(By.XPATH, xPATH_nb_escale).text\n",
    "    list_info_vol.append(field_nb_escale)\n",
    "\n",
    "    xPATH_companies = \"//*[@id='liligo_content']/flight-results/div/div/div[2]/div[5]/div/div[7]/div[\"+str(i)+ \"]/travel-result-item/div/div[1]/div[1]/item-header/div/div/div[2]\"\n",
    "    field_companies = driver.find_element(By.XPATH, xPATH_companies).text\n",
    "    list_info_vol.append(field_companies)\n",
    "\n",
    "    list_info_vols.append(list_info_vol)\n",
    "    # print(\"Depart:\",depart,\"\\nDestination:\",arrive,\"\\nPrix:\",field_price,\"\\nTemps de vol:\",field_time,\"\\nHoraires:\",field_depart_time,\"-\",field_arrival_time,\"\\nNombre d'escale(s):\",field_nb_escale,\"\\nCompagnie(s):\",field_companies,\"\\n\\n\")\n",
    "\n",
    "for i in range(1, 6):\n",
    "    list_info_vol = []\n",
    "    list_info_vol.append(vpn)\n",
    "    list_info_vol.append(depart)\n",
    "    list_info_vol.append(arrive)\n",
    "\n",
    "    xPATH_price = \"//*[@id='liligo_content']/flight-results/div/div/div[2]/div[5]/div/div[10]/div[\"+str(i)+ \"]/travel-result-item/div/div[3]/div[2]/div[1]\"\n",
    "    field_price = driver.find_element(By.XPATH, xPATH_price).text\n",
    "    list_info_vol.append(field_price)\n",
    "\n",
    "    xPATH_time = \"//*[@id='liligo_content']/flight-results/div/div/div[2]/div[5]/div/div[10]/div[\"+str(i)+ \"]/travel-result-item/div/div[1]/div[1]/item-timing/div/div/div[2]/div[1]/span[2]\"\n",
    "    field_time = driver.find_element(By.XPATH, xPATH_time).text\n",
    "    list_info_vol.append(field_time)\n",
    "\n",
    "    xPATH_depart_time = \"//*[@id='liligo_content']/flight-results/div/div/div[2]/div[5]/div/div[10]/div[\"+str(i)+ \"]/travel-result-item/div/div[1]/div[1]/item-timing/div/div/div[1]/div[1]\"\n",
    "    field_depart_time = driver.find_element(By.XPATH, xPATH_depart_time).text\n",
    "    list_info_vol.append(field_depart_time)\n",
    "\n",
    "    xPATH_arrival_time = \"//*[@id='liligo_content']/flight-results/div/div/div[2]/div[5]/div/div[10]/div[\"+str(i)+ \"]/travel-result-item/div/div[1]/div[1]/item-timing/div/div/div[3]/div[1]/span\"\n",
    "    field_arrival_time = driver.find_element(By.XPATH, xPATH_arrival_time).text\n",
    "    list_info_vol.append(field_arrival_time)\n",
    "\n",
    "    xPATH_nb_escale = \"//*[@id='liligo_content']/flight-results/div/div/div[2]/div[5]/div/div[10]/div[\"+str(i)+ \"]/travel-result-item/div/div[1]/div[1]/item-timing/div/div/div[2]/div[1]/span[1]\"\n",
    "    field_nb_escale = driver.find_element(By.XPATH, xPATH_nb_escale).text\n",
    "    list_info_vol.append(field_nb_escale)\n",
    "\n",
    "    xPATH_companies = \"//*[@id='liligo_content']/flight-results/div/div/div[2]/div[5]/div/div[10]/div[\"+str(i)+ \"]/travel-result-item/div/div[1]/div[1]/item-header/div/div/div[2]\"\n",
    "    field_companies = driver.find_element(By.XPATH, xPATH_companies).text\n",
    "    list_info_vol.append(field_companies)\n",
    "\n",
    "    list_info_vols.append(list_info_vol)"
   ]
  },
  {
   "cell_type": "code",
   "execution_count": 27,
   "metadata": {},
   "outputs": [
    {
     "data": {
      "text/html": [
       "<div>\n",
       "<style scoped>\n",
       "    .dataframe tbody tr th:only-of-type {\n",
       "        vertical-align: middle;\n",
       "    }\n",
       "\n",
       "    .dataframe tbody tr th {\n",
       "        vertical-align: top;\n",
       "    }\n",
       "\n",
       "    .dataframe thead th {\n",
       "        text-align: right;\n",
       "    }\n",
       "</style>\n",
       "<table border=\"1\" class=\"dataframe\">\n",
       "  <thead>\n",
       "    <tr style=\"text-align: right;\">\n",
       "      <th></th>\n",
       "      <th>VPN</th>\n",
       "      <th>Depart</th>\n",
       "      <th>Arrivé</th>\n",
       "      <th>Prix</th>\n",
       "      <th>Temps de vol</th>\n",
       "      <th>Heure de départ</th>\n",
       "      <th>Heure d'arrivé</th>\n",
       "      <th>Nombre d'escales</th>\n",
       "      <th>Compagnies</th>\n",
       "    </tr>\n",
       "  </thead>\n",
       "  <tbody>\n",
       "    <tr>\n",
       "      <th>0</th>\n",
       "      <td>Paris</td>\n",
       "      <td>Aéroport de Paris Charles de Gaulle, Paris, Fr...</td>\n",
       "      <td>Aéroport international de Narita, Tokyo, Japon</td>\n",
       "      <td>487 €</td>\n",
       "      <td>19h 10m</td>\n",
       "      <td>09:30</td>\n",
       "      <td>12:40</td>\n",
       "      <td>1 escale</td>\n",
       "      <td>Etihad Airways</td>\n",
       "    </tr>\n",
       "    <tr>\n",
       "      <th>1</th>\n",
       "      <td>Paris</td>\n",
       "      <td>Aéroport de Paris Charles de Gaulle, Paris, Fr...</td>\n",
       "      <td>Aéroport international de Narita, Tokyo, Japon</td>\n",
       "      <td>563 €</td>\n",
       "      <td>22h 0m</td>\n",
       "      <td>06:40</td>\n",
       "      <td>12:40</td>\n",
       "      <td>2 escales</td>\n",
       "      <td>Plusieurs compagnies</td>\n",
       "    </tr>\n",
       "    <tr>\n",
       "      <th>2</th>\n",
       "      <td>Paris</td>\n",
       "      <td>Aéroport de Paris Charles de Gaulle, Paris, Fr...</td>\n",
       "      <td>Aéroport international de Narita, Tokyo, Japon</td>\n",
       "      <td>963 €</td>\n",
       "      <td>13h 45m</td>\n",
       "      <td>11:25</td>\n",
       "      <td>09:10</td>\n",
       "      <td>Direct</td>\n",
       "      <td>Air France</td>\n",
       "    </tr>\n",
       "    <tr>\n",
       "      <th>3</th>\n",
       "      <td>Paris</td>\n",
       "      <td>Aéroport de Paris Charles de Gaulle, Paris, Fr...</td>\n",
       "      <td>Aéroport international de Narita, Tokyo, Japon</td>\n",
       "      <td>800 €</td>\n",
       "      <td>18h 55m</td>\n",
       "      <td>14:25</td>\n",
       "      <td>17:20</td>\n",
       "      <td>1 escale</td>\n",
       "      <td>Emirates</td>\n",
       "    </tr>\n",
       "    <tr>\n",
       "      <th>4</th>\n",
       "      <td>Paris</td>\n",
       "      <td>Aéroport de Paris Charles de Gaulle, Paris, Fr...</td>\n",
       "      <td>Aéroport international de Narita, Tokyo, Japon</td>\n",
       "      <td>823 €</td>\n",
       "      <td>19h 20m</td>\n",
       "      <td>12:30</td>\n",
       "      <td>15:50</td>\n",
       "      <td>1 escale</td>\n",
       "      <td>Thai Airways</td>\n",
       "    </tr>\n",
       "    <tr>\n",
       "      <th>5</th>\n",
       "      <td>Paris</td>\n",
       "      <td>Aéroport de Paris Charles de Gaulle, Paris, Fr...</td>\n",
       "      <td>Aéroport international de Narita, Tokyo, Japon</td>\n",
       "      <td>903 €</td>\n",
       "      <td>18h 35m</td>\n",
       "      <td>15:20</td>\n",
       "      <td>17:55</td>\n",
       "      <td>1 escale</td>\n",
       "      <td>Qatar Airways</td>\n",
       "    </tr>\n",
       "    <tr>\n",
       "      <th>6</th>\n",
       "      <td>Paris</td>\n",
       "      <td>Aéroport de Paris Charles de Gaulle, Paris, Fr...</td>\n",
       "      <td>Aéroport international de Narita, Tokyo, Japon</td>\n",
       "      <td>699 €</td>\n",
       "      <td>25h 30m</td>\n",
       "      <td>08:25</td>\n",
       "      <td>17:55</td>\n",
       "      <td>1 escale</td>\n",
       "      <td>Qatar Airways</td>\n",
       "    </tr>\n",
       "    <tr>\n",
       "      <th>7</th>\n",
       "      <td>Paris</td>\n",
       "      <td>Aéroport de Paris Charles de Gaulle, Paris, Fr...</td>\n",
       "      <td>Aéroport international de Narita, Tokyo, Japon</td>\n",
       "      <td>763 €</td>\n",
       "      <td>24h 0m</td>\n",
       "      <td>11:00</td>\n",
       "      <td>19:00</td>\n",
       "      <td>2 escales</td>\n",
       "      <td>Plusieurs compagnies</td>\n",
       "    </tr>\n",
       "    <tr>\n",
       "      <th>8</th>\n",
       "      <td>Paris</td>\n",
       "      <td>Aéroport de Paris Charles de Gaulle, Paris, Fr...</td>\n",
       "      <td>Aéroport international de Narita, Tokyo, Japon</td>\n",
       "      <td>571 €</td>\n",
       "      <td>32h 15m</td>\n",
       "      <td>20:25</td>\n",
       "      <td>12:40</td>\n",
       "      <td>2 escales</td>\n",
       "      <td>Plusieurs compagnies</td>\n",
       "    </tr>\n",
       "    <tr>\n",
       "      <th>9</th>\n",
       "      <td>Paris</td>\n",
       "      <td>Aéroport de Paris Charles de Gaulle, Paris, Fr...</td>\n",
       "      <td>Aéroport international de Narita, Tokyo, Japon</td>\n",
       "      <td>802 €</td>\n",
       "      <td>23h 20m</td>\n",
       "      <td>10:00</td>\n",
       "      <td>17:20</td>\n",
       "      <td>1 escale</td>\n",
       "      <td>Emirates</td>\n",
       "    </tr>\n",
       "  </tbody>\n",
       "</table>\n",
       "</div>"
      ],
      "text/plain": [
       "     VPN                                             Depart  \\\n",
       "0  Paris  Aéroport de Paris Charles de Gaulle, Paris, Fr...   \n",
       "1  Paris  Aéroport de Paris Charles de Gaulle, Paris, Fr...   \n",
       "2  Paris  Aéroport de Paris Charles de Gaulle, Paris, Fr...   \n",
       "3  Paris  Aéroport de Paris Charles de Gaulle, Paris, Fr...   \n",
       "4  Paris  Aéroport de Paris Charles de Gaulle, Paris, Fr...   \n",
       "5  Paris  Aéroport de Paris Charles de Gaulle, Paris, Fr...   \n",
       "6  Paris  Aéroport de Paris Charles de Gaulle, Paris, Fr...   \n",
       "7  Paris  Aéroport de Paris Charles de Gaulle, Paris, Fr...   \n",
       "8  Paris  Aéroport de Paris Charles de Gaulle, Paris, Fr...   \n",
       "9  Paris  Aéroport de Paris Charles de Gaulle, Paris, Fr...   \n",
       "\n",
       "                                           Arrivé   Prix Temps de vol  \\\n",
       "0  Aéroport international de Narita, Tokyo, Japon  487 €      19h 10m   \n",
       "1  Aéroport international de Narita, Tokyo, Japon  563 €       22h 0m   \n",
       "2  Aéroport international de Narita, Tokyo, Japon  963 €      13h 45m   \n",
       "3  Aéroport international de Narita, Tokyo, Japon  800 €      18h 55m   \n",
       "4  Aéroport international de Narita, Tokyo, Japon  823 €      19h 20m   \n",
       "5  Aéroport international de Narita, Tokyo, Japon  903 €      18h 35m   \n",
       "6  Aéroport international de Narita, Tokyo, Japon  699 €      25h 30m   \n",
       "7  Aéroport international de Narita, Tokyo, Japon  763 €       24h 0m   \n",
       "8  Aéroport international de Narita, Tokyo, Japon  571 €      32h 15m   \n",
       "9  Aéroport international de Narita, Tokyo, Japon  802 €      23h 20m   \n",
       "\n",
       "  Heure de départ Heure d'arrivé Nombre d'escales            Compagnies  \n",
       "0           09:30          12:40         1 escale        Etihad Airways  \n",
       "1           06:40          12:40        2 escales  Plusieurs compagnies  \n",
       "2           11:25          09:10           Direct            Air France  \n",
       "3           14:25          17:20         1 escale              Emirates  \n",
       "4           12:30          15:50         1 escale          Thai Airways  \n",
       "5           15:20          17:55         1 escale         Qatar Airways  \n",
       "6           08:25          17:55         1 escale         Qatar Airways  \n",
       "7           11:00          19:00        2 escales  Plusieurs compagnies  \n",
       "8           20:25          12:40        2 escales  Plusieurs compagnies  \n",
       "9           10:00          17:20         1 escale              Emirates  "
      ]
     },
     "execution_count": 27,
     "metadata": {},
     "output_type": "execute_result"
    }
   ],
   "source": [
    "df_paris_tokyo = pd.DataFrame(list_info_vols,columns=[\"VPN\",\"Depart\",\"Arrivé\",\"Prix\",\"Temps de vol\",\"Heure de départ\",\"Heure d'arrivé\",\"Nombre d'escales\",\"Compagnies\"])\n",
    "df_paris_tokyo"
   ]
  }
 ],
 "metadata": {
  "kernelspec": {
   "display_name": "base",
   "language": "python",
   "name": "python3"
  },
  "language_info": {
   "codemirror_mode": {
    "name": "ipython",
    "version": 3
   },
   "file_extension": ".py",
   "mimetype": "text/x-python",
   "name": "python",
   "nbconvert_exporter": "python",
   "pygments_lexer": "ipython3",
   "version": "3.9.12"
  },
  "orig_nbformat": 4,
  "vscode": {
   "interpreter": {
    "hash": "72db1283cdc3edc3e05ca6272062c06a23afc2ae71a79b6442f05a0b53e87d43"
   }
  }
 },
 "nbformat": 4,
 "nbformat_minor": 2
}
