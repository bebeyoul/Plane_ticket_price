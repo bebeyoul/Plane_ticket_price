{
 "cells": [
  {
   "attachments": {},
   "cell_type": "markdown",
   "metadata": {},
   "source": [
    "# Scrappe des vols sur liligo"
   ]
  },
  {
   "attachments": {},
   "cell_type": "markdown",
   "metadata": {},
   "source": [
    "Voyages recherchés:\n",
    "1.\tAéroport de Paris Charles de Gaulle, Paris, France – Aéroport international de Narita, Tokyo, Japon (France, Japon)\n",
    "3.\tAéroport international Mohammed-V de Casablanca, Casablanca, Maroc – Aéroport international de Gatwick, Londres, Angleterre, Royaume-Uni (Maroc, Angleterre)\n",
    "4.\tAéroport Léonard de Vinci de Rome-Fiumicino, Rome, Italie - Aéroport international OR Tambo, Johannesbourg, Afrique du sud (Italie, Afrique du sud)\n",
    "5.\tToronto, ON, Canada -  Athènes, Grèce (Canada – Grèce)\n",
    "6.\tAéroport international de Riga, Riga, Lettonie - Vienna Schwechat International Airport, Vienne, Autriche (Lettonie – Autriche)\n",
    "7.\tAéroport international du Caire, Le Caire, Egypte - Chhatrapati Shivaji International Airport, Mumbai, Maharashtra, Inde (Egypte – Inde)\n",
    "8.\tAéroport Adolfo-Suárez de Madrid-Barajas, Madrid, Madrid, Espagne – Aéroport international Reina Sofía de Tenerife Sud, Ténérife, Îles Canaries, Espagne (Espagne - îles Canarie - Espagne)\n",
    "9.\tAéroport international John F. Kennedy, New York, NY, Etats-Unis – Aéroport international de Los Angeles, Los Angeles, CA, Etats-Unis (US - US)\n",
    "10.\tAéroport de Paris Charles de Gaulle, Paris, France – Aéroport Kingsford Smith de Sydney, Sydney, Nouvelles Galles du Sud, Australie (France – Australie)"
   ]
  },
  {
   "attachments": {},
   "cell_type": "markdown",
   "metadata": {},
   "source": [
    "Pays où on pose le VPN :\n",
    "1. Cambodge\n",
    "2. Bangladesh\n",
    "3. Moldavie\n",
    "4. Inde\n",
    "5. Philippines\n",
    "16. Luxembourg\n",
    "17. Macao\n",
    "18. Monaco\n",
    "19. Qatar\n",
    "20. Liechtenstein"
   ]
  },
  {
   "cell_type": "code",
   "execution_count": 2,
   "metadata": {},
   "outputs": [],
   "source": [
    "import urllib\n",
    "import bs4\n",
    "from bs4 import BeautifulSoup\n",
    "from urllib import request\n",
    "import requests\n",
    "import pandas as pd\n",
    "import time\n",
    "\n",
    "from selenium import webdriver\n",
    "from selenium.webdriver.chrome.options import Options\n",
    "import os\n",
    "\n",
    "from selenium.webdriver.common.keys import Keys\n",
    "from selenium.webdriver.common.by import By"
   ]
  },
  {
   "attachments": {},
   "cell_type": "markdown",
   "metadata": {},
   "source": [
    "penser a faire ce voyage à la main:\n",
    "\n",
    "[\"Aéroport international Pearson de Toronto, Toronto, ON, Canada\",\"Aéroport international d'Athènes Elefthérios-Venizélos, Athènes, Grèce\"],"
   ]
  },
  {
   "attachments": {},
   "cell_type": "markdown",
   "metadata": {},
   "source": [
    "### Fonctions"
   ]
  },
  {
   "cell_type": "code",
   "execution_count": 3,
   "metadata": {},
   "outputs": [],
   "source": [
    "def write_on_webpage(xPATH_of_field_to_complet, driver, value_to_enter):\n",
    "    field = driver.find_element(By.XPATH, xPATH_of_field_to_complet)\n",
    "    # supprimer la valeur précédentes\n",
    "    field.clear()\n",
    "    # ecrire dans mon champs\n",
    "    field.send_keys(value_to_enter)\n",
    "    # field.click()\n",
    "    time.sleep(1)\n",
    "    # valider la valeur qui est dans mon champs\n",
    "    field.send_keys(Keys.RETURN)\n",
    "\n",
    "def click_on_webpage(xPATH_of_field_to_complet, driver):\n",
    "    field = driver.find_element(By.XPATH, xPATH_of_field_to_complet)\n",
    "    time.sleep(1)\n",
    "    field.click()"
   ]
  },
  {
   "attachments": {},
   "cell_type": "markdown",
   "metadata": {},
   "source": [
    "### Variables"
   ]
  },
  {
   "cell_type": "code",
   "execution_count": 128,
   "metadata": {},
   "outputs": [],
   "source": [
    "liste_des_vols = [[\"Aéroport de Paris Charles de Gaulle, Paris, France\",\"Aéroport international de Narita, Tokyo, Japon\"],\n",
    "[\"Aéroport international Mohammed-V de Casablanca, Casablanca, Maroc\",\"Aéroport international de Gatwick, Londres, Angleterre, Royaume-Uni\"],\n",
    "[\"Aéroport Léonard de Vinci de Rome-Fiumicino, Rome, Italie\",\"Aéroport international OR Tambo, Johannesbourg, Afrique du sud\"],\n",
    "[\"Aéroport international de Riga, Riga, Lettonie\",\"Vienna Schwechat International Airport, Vienne, Autriche\"],\n",
    "[\"Aéroport international du Caire, Le Caire, Egypte\",\"Chhatrapati Shivaji International Airport, Mumbai, Maharashtra, Inde\"],\n",
    "[\"Aéroport Adolfo-Suárez de Madrid-Barajas, Madrid, Madrid, Espagne\",\"Aéroport international Reina Sofía de Tenerife Sud, Ténérife, Îles Canaries, Espagne\"],\n",
    "[\"Aéroport international John F. Kennedy, New York, NY, Etats-Unis\",\"Aéroport international de Los Angeles, Los Angeles, CA, Etats-Unis\"],\n",
    "[\"Aéroport de Paris Charles de Gaulle, Paris, France\",\"Aéroport Kingsford Smith de Sydney, Sydney, Nouvelles Galles du Sud, Australie\"]]"
   ]
  },
  {
   "cell_type": "code",
   "execution_count": 129,
   "metadata": {},
   "outputs": [],
   "source": [
    "vpn = \"Cambodge\"\n",
    "dates = [\"30/01/2023\",\"31/01/2023\",\"01/02/2023\",\"02/02/2023\"]\n",
    "\n",
    "xPATH_allerSimple = \"//*[@id='liligo_content']/flight-form/div[1]/div[1]/div/div/div[2]\"\n",
    "xPATH_depart = \"//*[@id='flight-comploc-from']/div/div[1]/input\"\n",
    "xPATH_arrive = \"//*[@id='flight-comploc-to']/div/div[1]/input\"\n",
    "xPATH_dates = [\"//*[@id='flight-calendar']/div[2]/div[4]/div[1]/div[2]/div[2]/ul/li[36]\",\"//*[@id='flight-calendar']/div[2]/div[4]/div[1]/div[2]/div[2]/ul/li[37]\",\"//*[@id='flight-calendar']/div[2]/div[4]/div[2]/div[2]/div[2]/ul/li[3]\",\"//*[@id='flight-calendar']/div[2]/div[4]/div[2]/div[2]/div[2]/ul/li[4]\"]\n",
    "xPATH_compare_button = \"//*[@id='liligo_content']/flight-form/div[1]/div[2]/button[3]\""
   ]
  },
  {
   "attachments": {},
   "cell_type": "markdown",
   "metadata": {},
   "source": [
    "### Scrapping"
   ]
  },
  {
   "cell_type": "code",
   "execution_count": 7,
   "metadata": {},
   "outputs": [],
   "source": [
    "def scrappe_liligo(list_info_vols, date, depart, arrive, vpn, driver):\n",
    "    for i in range(1, 6):\n",
    "        list_info_vol = []\n",
    "        list_info_vol.append(vpn)\n",
    "        list_info_vol.append(date)\n",
    "        list_info_vol.append(depart)\n",
    "        list_info_vol.append(arrive)\n",
    "\n",
    "        xPATH_price = \"//*[@id='liligo_content']/flight-results/div/div/div[2]/div[5]/div/div[7]/div[\"+str(i)+ \"]/travel-result-item/div/div[3]/div[2]/div[1]\"\n",
    "        field_price = driver.find_element(By.XPATH, xPATH_price).text\n",
    "        list_info_vol.append(field_price)\n",
    "\n",
    "        xPATH_time = \"//*[@id='liligo_content']/flight-results/div/div/div[2]/div[5]/div/div[7]/div[\"+str(i)+ \"]/travel-result-item/div/div[1]/div[1]/item-timing/div/div/div[2]/div[1]/span[2]\"\n",
    "        field_time = driver.find_element(By.XPATH, xPATH_time).text\n",
    "        list_info_vol.append(field_time)\n",
    "\n",
    "        xPATH_depart_time = \"//*[@id='liligo_content']/flight-results/div/div/div[2]/div[5]/div/div[7]/div[\"+str(i)+ \"]/travel-result-item/div/div[1]/div[1]/item-timing/div/div/div[1]/div[1]\"\n",
    "        field_depart_time = driver.find_element(By.XPATH, xPATH_depart_time).text\n",
    "        list_info_vol.append(field_depart_time)\n",
    "\n",
    "        xPATH_arrival_time = \"//*[@id='liligo_content']/flight-results/div/div/div[2]/div[5]/div/div[7]/div[\"+str(i)+ \"]/travel-result-item/div/div[1]/div[1]/item-timing/div/div/div[3]/div[1]/span\"\n",
    "        field_arrival_time = driver.find_element(By.XPATH, xPATH_arrival_time).text\n",
    "        list_info_vol.append(field_arrival_time)\n",
    "\n",
    "        xPATH_nb_escale = \"//*[@id='liligo_content']/flight-results/div/div/div[2]/div[5]/div/div[7]/div[\"+str(i)+ \"]/travel-result-item/div/div[1]/div[1]/item-timing/div/div/div[2]/div[1]/span[1]\"\n",
    "        field_nb_escale = driver.find_element(By.XPATH, xPATH_nb_escale).text\n",
    "        list_info_vol.append(field_nb_escale)\n",
    "\n",
    "        xPATH_companies = \"//*[@id='liligo_content']/flight-results/div/div/div[2]/div[5]/div/div[7]/div[\"+str(i)+ \"]/travel-result-item/div/div[1]/div[1]/item-header/div/div/div[2]\"\n",
    "        field_companies = driver.find_element(By.XPATH, xPATH_companies).text\n",
    "        list_info_vol.append(field_companies)\n",
    "\n",
    "        list_info_vols.append(list_info_vol)\n",
    "        # print(\"Depart:\",depart,\"\\nDestination:\",arrive,\"\\nPrix:\",field_price,\"\\nTemps de vol:\",field_time,\"\\nHoraires:\",field_depart_time,\"-\",field_arrival_time,\"\\nNombre d'escale(s):\",field_nb_escale,\"\\nCompagnie(s):\",field_companies,\"\\n\\n\")\n",
    "\n",
    "    # 5 à 10 vols\n",
    "    for i in range(1, 6):\n",
    "        list_info_vol = []\n",
    "        list_info_vol.append(vpn)\n",
    "        list_info_vol.append(date)\n",
    "        list_info_vol.append(depart)\n",
    "        list_info_vol.append(arrive)\n",
    "\n",
    "        xPATH_price = \"//*[@id='liligo_content']/flight-results/div/div/div[2]/div[5]/div/div[10]/div[\"+str(i)+ \"]/travel-result-item/div/div[3]/div[2]/div[1]\"\n",
    "        field_price = driver.find_element(By.XPATH, xPATH_price).text\n",
    "        list_info_vol.append(field_price)\n",
    "\n",
    "        xPATH_time = \"//*[@id='liligo_content']/flight-results/div/div/div[2]/div[5]/div/div[10]/div[\"+str(i)+ \"]/travel-result-item/div/div[1]/div[1]/item-timing/div/div/div[2]/div[1]/span[2]\"\n",
    "        field_time = driver.find_element(By.XPATH, xPATH_time).text\n",
    "        list_info_vol.append(field_time)\n",
    "\n",
    "        xPATH_depart_time = \"//*[@id='liligo_content']/flight-results/div/div/div[2]/div[5]/div/div[10]/div[\"+str(i)+ \"]/travel-result-item/div/div[1]/div[1]/item-timing/div/div/div[1]/div[1]\"\n",
    "        field_depart_time = driver.find_element(By.XPATH, xPATH_depart_time).text\n",
    "        list_info_vol.append(field_depart_time)\n",
    "\n",
    "        xPATH_arrival_time = \"//*[@id='liligo_content']/flight-results/div/div/div[2]/div[5]/div/div[10]/div[\"+str(i)+ \"]/travel-result-item/div/div[1]/div[1]/item-timing/div/div/div[3]/div[1]/span\"\n",
    "        field_arrival_time = driver.find_element(By.XPATH, xPATH_arrival_time).text\n",
    "        list_info_vol.append(field_arrival_time)\n",
    "\n",
    "        xPATH_nb_escale = \"//*[@id='liligo_content']/flight-results/div/div/div[2]/div[5]/div/div[10]/div[\"+str(i)+ \"]/travel-result-item/div/div[1]/div[1]/item-timing/div/div/div[2]/div[1]/span[1]\"\n",
    "        field_nb_escale = driver.find_element(By.XPATH, xPATH_nb_escale).text\n",
    "        list_info_vol.append(field_nb_escale)\n",
    "\n",
    "        xPATH_companies = \"//*[@id='liligo_content']/flight-results/div/div/div[2]/div[5]/div/div[10]/div[\"+str(i)+ \"]/travel-result-item/div/div[1]/div[1]/item-header/div/div/div[2]\"\n",
    "        field_companies = driver.find_element(By.XPATH, xPATH_companies).text\n",
    "        list_info_vol.append(field_companies)\n",
    "\n",
    "        list_info_vols.append(list_info_vol)\n",
    "\n",
    "    # 11 à 16 vols\n",
    "    for i in range(1, 6):\n",
    "        list_info_vol = []\n",
    "        list_info_vol.append(vpn)\n",
    "        list_info_vol.append(date)\n",
    "        list_info_vol.append(depart)\n",
    "        list_info_vol.append(arrive)\n",
    "\n",
    "        xPATH_price = \"//*[@id='liligo_content']/flight-results/div/div/div[2]/div[5]/div/div[12]/div[\"+str(i)+ \"]/travel-result-item/div/div[3]/div[2]/div[1]\"\n",
    "        field_price = driver.find_element(By.XPATH, xPATH_price).text\n",
    "        list_info_vol.append(field_price)\n",
    "\n",
    "        xPATH_time = \"//*[@id='liligo_content']/flight-results/div/div/div[2]/div[5]/div/div[12]/div[\"+str(i)+ \"]/travel-result-item/div/div[1]/div[1]/item-timing/div/div/div[2]/div[1]/span[2]\"\n",
    "        field_time = driver.find_element(By.XPATH, xPATH_time).text\n",
    "        list_info_vol.append(field_time)\n",
    "\n",
    "        xPATH_depart_time = \"//*[@id='liligo_content']/flight-results/div/div/div[2]/div[5]/div/div[12]/div[\"+str(i)+ \"]/travel-result-item/div/div[1]/div[1]/item-timing/div/div/div[1]/div[1]\"\n",
    "        field_depart_time = driver.find_element(By.XPATH, xPATH_depart_time).text\n",
    "        list_info_vol.append(field_depart_time)\n",
    "\n",
    "        xPATH_arrival_time = \"//*[@id='liligo_content']/flight-results/div/div/div[2]/div[5]/div/div[12]/div[\"+str(i)+ \"]/travel-result-item/div/div[1]/div[1]/item-timing/div/div/div[3]/div[1]/span\"\n",
    "        field_arrival_time = driver.find_element(By.XPATH, xPATH_arrival_time).text\n",
    "        list_info_vol.append(field_arrival_time)\n",
    "\n",
    "        xPATH_nb_escale = \"//*[@id='liligo_content']/flight-results/div/div/div[2]/div[5]/div/div[12]/div[\"+str(i)+ \"]/travel-result-item/div/div[1]/div[1]/item-timing/div/div/div[2]/div[1]/span[1]\"\n",
    "        field_nb_escale = driver.find_element(By.XPATH, xPATH_nb_escale).text\n",
    "        list_info_vol.append(field_nb_escale)\n",
    "\n",
    "        xPATH_companies = \"//*[@id='liligo_content']/flight-results/div/div/div[2]/div[5]/div/div[12]/div[\"+str(i)+ \"]/travel-result-item/div/div[1]/div[1]/item-header/div/div/div[2]\"\n",
    "        field_companies = driver.find_element(By.XPATH, xPATH_companies).text\n",
    "        list_info_vol.append(field_companies)\n",
    "\n",
    "        list_info_vols.append(list_info_vol)"
   ]
  },
  {
   "cell_type": "code",
   "execution_count": 133,
   "metadata": {},
   "outputs": [
    {
     "name": "stdout",
     "output_type": "stream",
     "text": [
      "30/01/2023\n",
      "voyage n° 1\n",
      "depart: Aéroport de Paris Charles de Gaulle, Paris, France\n",
      "arrive: Aéroport international de Narita, Tokyo, Japon\n",
      "voyage n° 2\n",
      "depart: Aéroport international Mohammed-V de Casablanca, Casablanca, Maroc\n",
      "arrive: Aéroport international de Gatwick, Londres, Angleterre, Royaume-Uni\n",
      "voyage n° 3\n",
      "depart: Aéroport Léonard de Vinci de Rome-Fiumicino, Rome, Italie\n",
      "arrive: Aéroport international OR Tambo, Johannesbourg, Afrique du sud\n",
      "voyage n° 4\n",
      "depart: Aéroport international de Riga, Riga, Lettonie\n",
      "arrive: Vienna Schwechat International Airport, Vienne, Autriche\n",
      "voyage n° 5\n",
      "depart: Aéroport international du Caire, Le Caire, Egypte\n",
      "arrive: Chhatrapati Shivaji International Airport, Mumbai, Maharashtra, Inde\n",
      "voyage n° 6\n",
      "depart: Aéroport Adolfo-Suárez de Madrid-Barajas, Madrid, Madrid, Espagne\n",
      "arrive: Aéroport international Reina Sofía de Tenerife Sud, Ténérife, Îles Canaries, Espagne\n",
      "voyage n° 7\n",
      "depart: Aéroport international John F. Kennedy, New York, NY, Etats-Unis\n",
      "arrive: Aéroport international de Los Angeles, Los Angeles, CA, Etats-Unis\n",
      "voyage n° 8\n",
      "depart: Aéroport de Paris Charles de Gaulle, Paris, France\n",
      "arrive: Aéroport Kingsford Smith de Sydney, Sydney, Nouvelles Galles du Sud, Australie\n",
      "31/01/2023\n",
      "voyage n° 9\n",
      "depart: Aéroport de Paris Charles de Gaulle, Paris, France\n",
      "arrive: Aéroport international de Narita, Tokyo, Japon\n",
      "voyage n° 10\n",
      "depart: Aéroport international Mohammed-V de Casablanca, Casablanca, Maroc\n",
      "arrive: Aéroport international de Gatwick, Londres, Angleterre, Royaume-Uni\n"
     ]
    },
    {
     "ename": "UnexpectedAlertPresentException",
     "evalue": "Alert Text: Choisissez votre ville de départ !\nMessage: unexpected alert open: {Alert text : Choisissez votre ville de départ !}\n  (Session info: chrome=108.0.5359.125)\n",
     "output_type": "error",
     "traceback": [
      "\u001b[1;31m---------------------------------------------------------------------------\u001b[0m",
      "\u001b[1;31mUnexpectedAlertPresentException\u001b[0m           Traceback (most recent call last)",
      "\u001b[1;32mc:\\Users\\julie\\OneDrive\\Documents\\GitHub\\Plane_ticket_price\\vols.ipynb Cell 13\u001b[0m in \u001b[0;36m<cell line: 4>\u001b[1;34m()\u001b[0m\n\u001b[0;32m     <a href='vscode-notebook-cell:/c%3A/Users/julie/OneDrive/Documents/GitHub/Plane_ticket_price/vols.ipynb#X15sZmlsZQ%3D%3D?line=23'>24</a>\u001b[0m depart_field \u001b[39m=\u001b[39m write_on_webpage(xPATH_depart, driver, depart)\n\u001b[0;32m     <a href='vscode-notebook-cell:/c%3A/Users/julie/OneDrive/Documents/GitHub/Plane_ticket_price/vols.ipynb#X15sZmlsZQ%3D%3D?line=24'>25</a>\u001b[0m time\u001b[39m.\u001b[39msleep(\u001b[39m2.5\u001b[39m)\n\u001b[1;32m---> <a href='vscode-notebook-cell:/c%3A/Users/julie/OneDrive/Documents/GitHub/Plane_ticket_price/vols.ipynb#X15sZmlsZQ%3D%3D?line=25'>26</a>\u001b[0m arrive_field \u001b[39m=\u001b[39m write_on_webpage(xPATH_arrive, driver, arrive)\n\u001b[0;32m     <a href='vscode-notebook-cell:/c%3A/Users/julie/OneDrive/Documents/GitHub/Plane_ticket_price/vols.ipynb#X15sZmlsZQ%3D%3D?line=26'>27</a>\u001b[0m time\u001b[39m.\u001b[39msleep(\u001b[39m2.5\u001b[39m)\n\u001b[0;32m     <a href='vscode-notebook-cell:/c%3A/Users/julie/OneDrive/Documents/GitHub/Plane_ticket_price/vols.ipynb#X15sZmlsZQ%3D%3D?line=27'>28</a>\u001b[0m date \u001b[39m=\u001b[39m click_on_webpage(xPATH_date, driver)\n",
      "\u001b[1;32mc:\\Users\\julie\\OneDrive\\Documents\\GitHub\\Plane_ticket_price\\vols.ipynb Cell 13\u001b[0m in \u001b[0;36mwrite_on_webpage\u001b[1;34m(xPATH_of_field_to_complet, driver, value_to_enter)\u001b[0m\n\u001b[0;32m      <a href='vscode-notebook-cell:/c%3A/Users/julie/OneDrive/Documents/GitHub/Plane_ticket_price/vols.ipynb#X15sZmlsZQ%3D%3D?line=0'>1</a>\u001b[0m \u001b[39mdef\u001b[39;00m \u001b[39mwrite_on_webpage\u001b[39m(xPATH_of_field_to_complet, driver, value_to_enter):\n\u001b[1;32m----> <a href='vscode-notebook-cell:/c%3A/Users/julie/OneDrive/Documents/GitHub/Plane_ticket_price/vols.ipynb#X15sZmlsZQ%3D%3D?line=1'>2</a>\u001b[0m     field \u001b[39m=\u001b[39m driver\u001b[39m.\u001b[39;49mfind_element(By\u001b[39m.\u001b[39;49mXPATH, xPATH_of_field_to_complet)\n\u001b[0;32m      <a href='vscode-notebook-cell:/c%3A/Users/julie/OneDrive/Documents/GitHub/Plane_ticket_price/vols.ipynb#X15sZmlsZQ%3D%3D?line=2'>3</a>\u001b[0m     \u001b[39m# supprimer la valeur précédentes\u001b[39;00m\n\u001b[0;32m      <a href='vscode-notebook-cell:/c%3A/Users/julie/OneDrive/Documents/GitHub/Plane_ticket_price/vols.ipynb#X15sZmlsZQ%3D%3D?line=3'>4</a>\u001b[0m     field\u001b[39m.\u001b[39mclear()\n",
      "File \u001b[1;32mc:\\Users\\julie\\anaconda\\lib\\site-packages\\selenium\\webdriver\\remote\\webdriver.py:976\u001b[0m, in \u001b[0;36mWebDriver.find_element\u001b[1;34m(self, by, value)\u001b[0m\n\u001b[0;32m    974\u001b[0m         by \u001b[39m=\u001b[39m By\u001b[39m.\u001b[39mCSS_SELECTOR\n\u001b[0;32m    975\u001b[0m         value \u001b[39m=\u001b[39m \u001b[39m'\u001b[39m\u001b[39m[name=\u001b[39m\u001b[39m\"\u001b[39m\u001b[39m%s\u001b[39;00m\u001b[39m\"\u001b[39m\u001b[39m]\u001b[39m\u001b[39m'\u001b[39m \u001b[39m%\u001b[39m value\n\u001b[1;32m--> 976\u001b[0m \u001b[39mreturn\u001b[39;00m \u001b[39mself\u001b[39;49m\u001b[39m.\u001b[39;49mexecute(Command\u001b[39m.\u001b[39;49mFIND_ELEMENT, {\n\u001b[0;32m    977\u001b[0m     \u001b[39m'\u001b[39;49m\u001b[39musing\u001b[39;49m\u001b[39m'\u001b[39;49m: by,\n\u001b[0;32m    978\u001b[0m     \u001b[39m'\u001b[39;49m\u001b[39mvalue\u001b[39;49m\u001b[39m'\u001b[39;49m: value})[\u001b[39m'\u001b[39m\u001b[39mvalue\u001b[39m\u001b[39m'\u001b[39m]\n",
      "File \u001b[1;32mc:\\Users\\julie\\anaconda\\lib\\site-packages\\selenium\\webdriver\\remote\\webdriver.py:321\u001b[0m, in \u001b[0;36mWebDriver.execute\u001b[1;34m(self, driver_command, params)\u001b[0m\n\u001b[0;32m    319\u001b[0m response \u001b[39m=\u001b[39m \u001b[39mself\u001b[39m\u001b[39m.\u001b[39mcommand_executor\u001b[39m.\u001b[39mexecute(driver_command, params)\n\u001b[0;32m    320\u001b[0m \u001b[39mif\u001b[39;00m response:\n\u001b[1;32m--> 321\u001b[0m     \u001b[39mself\u001b[39;49m\u001b[39m.\u001b[39;49merror_handler\u001b[39m.\u001b[39;49mcheck_response(response)\n\u001b[0;32m    322\u001b[0m     response[\u001b[39m'\u001b[39m\u001b[39mvalue\u001b[39m\u001b[39m'\u001b[39m] \u001b[39m=\u001b[39m \u001b[39mself\u001b[39m\u001b[39m.\u001b[39m_unwrap_value(\n\u001b[0;32m    323\u001b[0m         response\u001b[39m.\u001b[39mget(\u001b[39m'\u001b[39m\u001b[39mvalue\u001b[39m\u001b[39m'\u001b[39m, \u001b[39mNone\u001b[39;00m))\n\u001b[0;32m    324\u001b[0m     \u001b[39mreturn\u001b[39;00m response\n",
      "File \u001b[1;32mc:\\Users\\julie\\anaconda\\lib\\site-packages\\selenium\\webdriver\\remote\\errorhandler.py:241\u001b[0m, in \u001b[0;36mErrorHandler.check_response\u001b[1;34m(self, response)\u001b[0m\n\u001b[0;32m    239\u001b[0m     \u001b[39melif\u001b[39;00m \u001b[39m'\u001b[39m\u001b[39malert\u001b[39m\u001b[39m'\u001b[39m \u001b[39min\u001b[39;00m value:\n\u001b[0;32m    240\u001b[0m         alert_text \u001b[39m=\u001b[39m value[\u001b[39m'\u001b[39m\u001b[39malert\u001b[39m\u001b[39m'\u001b[39m]\u001b[39m.\u001b[39mget(\u001b[39m'\u001b[39m\u001b[39mtext\u001b[39m\u001b[39m'\u001b[39m)\n\u001b[1;32m--> 241\u001b[0m     \u001b[39mraise\u001b[39;00m exception_class(message, screen, stacktrace, alert_text)\n\u001b[0;32m    242\u001b[0m \u001b[39mraise\u001b[39;00m exception_class(message, screen, stacktrace)\n",
      "\u001b[1;31mUnexpectedAlertPresentException\u001b[0m: Alert Text: Choisissez votre ville de départ !\nMessage: unexpected alert open: {Alert text : Choisissez votre ville de départ !}\n  (Session info: chrome=108.0.5359.125)\n"
     ]
    }
   ],
   "source": [
    "count_voyage=1\n",
    "list_info_vols = []\n",
    "df = pd.DataFrame(list_info_vols,columns=[\"VPN\",\"Date\",\"Depart\",\"Arrivé\",\"Prix\",\"Temps de vol\",\"Heure de départ\",\"Heure d'arrivé\",\"Nombre d'escales\",\"Compagnies\"])\n",
    "for i in range(len(xPATH_dates)):\n",
    "    date_JJ_MM_AAAA = dates[i] # date du vol format JJ/MM/AAAA\n",
    "    print(date_JJ_MM_AAAA)\n",
    "    xPATH_date = xPATH_dates[i] # xPATH de la date du vol\n",
    "\n",
    "    for voyage in range(len(liste_des_vols)):\n",
    "        print(\"voyage n°\",count_voyage)\n",
    "        depart = liste_des_vols[voyage][0]\n",
    "        arrive = liste_des_vols[voyage][1]\n",
    "        print(\"depart:\",depart)\n",
    "        print(\"arrive:\",arrive)\n",
    "        \n",
    "        url = \"https://www.liligo.fr/servlet/render?path=/air/results&searchIndex=0&searchId=AAEBAQH__w#/air/results\"\n",
    "        driver = webdriver.Chrome(\"C:/chromedriver_win32/chromedriver.exe\")\n",
    "        driver.get(url)\n",
    "        html = driver.page_source\n",
    "        time.sleep(1.5)\n",
    "        \n",
    "        allerSimple = click_on_webpage(xPATH_allerSimple, driver)\n",
    "        time.sleep(1.5)\n",
    "        depart_field = write_on_webpage(xPATH_depart, driver, depart)\n",
    "        time.sleep(2.5)\n",
    "        arrive_field = write_on_webpage(xPATH_arrive, driver, arrive)\n",
    "        time.sleep(2.5)\n",
    "        date = click_on_webpage(xPATH_date, driver)\n",
    "        time.sleep(2.5)\n",
    "        compare_button = click_on_webpage(xPATH_compare_button, driver)\n",
    "        time.sleep(32)\n",
    "        \n",
    "            \n",
    "        list_info_vols = []\n",
    "        scrappe_liligo(list_info_vols, date_JJ_MM_AAAA, depart, arrive, vpn, driver)\n",
    "        df_temp = pd.DataFrame(list_info_vols,columns=[\"VPN\",\"Date\",\"Depart\",\"Arrivé\",\"Prix\",\"Temps de vol\",\"Heure de départ\",\"Heure d'arrivé\",\"Nombre d'escales\",\"Compagnies\"])\n",
    "        df = pd.concat([df, df_temp], ignore_index=True)\n",
    "        driver.quit()\n",
    "        count_voyage+=1"
   ]
  },
  {
   "attachments": {},
   "cell_type": "markdown",
   "metadata": {},
   "source": [
    "### Correction"
   ]
  },
  {
   "cell_type": "code",
   "execution_count": 4,
   "metadata": {},
   "outputs": [],
   "source": [
    "# liste_des_vols = [[\"Aéroport international John F. Kennedy, New York, NY, Etats-Unis\",\"Aéroport international de Los Angeles, Los Angeles, CA, Etats-Unis\"]]"
   ]
  },
  {
   "cell_type": "code",
   "execution_count": 5,
   "metadata": {},
   "outputs": [],
   "source": [
    "# vpn = \"Philippines\"\n",
    "# dates = [\"02/02/2023\"]\n",
    "\n",
    "# xPATH_allerSimple = \"//*[@id='liligo_content']/flight-form/div[1]/div[1]/div/div/div[2]\"\n",
    "# xPATH_depart = \"//*[@id='flight-comploc-from']/div/div[1]/input\"\n",
    "# xPATH_arrive = \"//*[@id='flight-comploc-to']/div/div[1]/input\"\n",
    "# xPATH_dates = [\"//*[@id='flight-calendar']/div[2]/div[4]/div[2]/div[2]/div[2]/ul/li[4]\"]\n",
    "# xPATH_compare_button = \"//*[@id='liligo_content']/flight-form/div[1]/div[2]/button[3]\""
   ]
  },
  {
   "cell_type": "code",
   "execution_count": null,
   "metadata": {},
   "outputs": [],
   "source": [
    "# count_voyage=1\n",
    "# list_info_vols = []\n",
    "# df = pd.DataFrame(list_info_vols,columns=[\"VPN\",\"Date\",\"Depart\",\"Arrivé\",\"Prix\",\"Temps de vol\",\"Heure de départ\",\"Heure d'arrivé\",\"Nombre d'escales\",\"Compagnies\"])\n",
    "# for i in range(len(xPATH_dates)):\n",
    "#     date_JJ_MM_AAAA = dates[i] # date du vol format JJ/MM/AAAA\n",
    "#     print(date_JJ_MM_AAAA)\n",
    "#     xPATH_date = xPATH_dates[i] # xPATH de la date du vol\n",
    "\n",
    "#     for voyage in range(len(liste_des_vols)):\n",
    "#         print(\"voyage n°\",count_voyage)\n",
    "#         depart = liste_des_vols[voyage][0]\n",
    "#         arrive = liste_des_vols[voyage][1]\n",
    "#         print(\"depart:\",depart)\n",
    "#         print(\"arrive:\",arrive)\n",
    "        \n",
    "#         url = \"https://www.liligo.fr/servlet/render?path=/air/results&searchIndex=0&searchId=AAEBAQH__w#/air/results\"\n",
    "#         driver = webdriver.Chrome(\"C:/chromedriver_win32/chromedriver.exe\")\n",
    "#         driver.get(url)\n",
    "#         html = driver.page_source\n",
    "#         time.sleep(3)\n",
    "        \n",
    "#         allerSimple = click_on_webpage(xPATH_allerSimple, driver)\n",
    "#         time.sleep(3)\n",
    "#         depart_field = write_on_webpage(xPATH_depart, driver, depart)\n",
    "#         time.sleep(6)\n",
    "#         arrive_field = write_on_webpage(xPATH_arrive, driver, arrive)\n",
    "#         time.sleep(6)\n",
    "#         date = click_on_webpage(xPATH_date, driver)\n",
    "#         time.sleep(6)\n",
    "#         compare_button = click_on_webpage(xPATH_compare_button, driver)\n",
    "#         time.sleep(40)\n",
    "        \n",
    "#         list_info_vols = []\n",
    "#         scrappe_liligo(list_info_vols, date_JJ_MM_AAAA, depart, arrive, vpn, driver)\n",
    "#         df_temp = pd.DataFrame(list_info_vols,columns=[\"VPN\",\"Date\",\"Depart\",\"Arrivé\",\"Prix\",\"Temps de vol\",\"Heure de départ\",\"Heure d'arrivé\",\"Nombre d'escales\",\"Compagnies\"])\n",
    "#         df_temp.head(2)\n",
    "#         df = pd.concat([df, df_temp], ignore_index=True)\n",
    "#         driver.quit()\n",
    "#         count_voyage+=1"
   ]
  },
  {
   "cell_type": "code",
   "execution_count": null,
   "metadata": {},
   "outputs": [],
   "source": [
    "df"
   ]
  },
  {
   "attachments": {},
   "cell_type": "markdown",
   "metadata": {},
   "source": [
    "## Export"
   ]
  },
  {
   "cell_type": "code",
   "execution_count": 10,
   "metadata": {},
   "outputs": [],
   "source": [
    "path=\"C:/Users/julie/OneDrive/Documents/ESILV/Semestre_9/Webscrapping/Projet/data/\"\n",
    "path_pays = path + vpn\n",
    "df.to_csv(path_pays+\"_dataset.csv\")"
   ]
  },
  {
   "cell_type": "code",
   "execution_count": null,
   "metadata": {},
   "outputs": [],
   "source": [
    "# path=\"C:/Users/julie/OneDrive/Documents/ESILV/Semestre_9/Webscrapping/Projet/data/to concate/31 janvier/\"\n",
    "# path_pays = path + vpn\n",
    "\n",
    "# df.to_csv(path_pays+\"_paris_tokyo.csv\")\n",
    "# # df.to_csv(path_pays+ \"_cassablanca_londres.csv\")\n",
    "# # df.to_csv(path_pays+\"_italie_afrique_du_sud.csv\")\n",
    "# # df.to_csv(path_pays+\"_toronto_athene.csv\")\n",
    "# # df.to_csv(path_pays+\"_riga_vienne.csv\")\n",
    "# # df.to_csv(path_pays+\"_caire_inde.csv\")\n",
    "# # df.to_csv(path_pays+\"_espagne_espagne.csv\")\n",
    "# # df.to_csv(path_pays+\"_newYork_losAngeles.csv\")\n",
    "# # df.to_csv(path_pays+\"_paris_sidney.csv\")"
   ]
  }
 ],
 "metadata": {
  "kernelspec": {
   "display_name": "base",
   "language": "python",
   "name": "python3"
  },
  "language_info": {
   "codemirror_mode": {
    "name": "ipython",
    "version": 3
   },
   "file_extension": ".py",
   "mimetype": "text/x-python",
   "name": "python",
   "nbconvert_exporter": "python",
   "pygments_lexer": "ipython3",
   "version": "3.9.12"
  },
  "orig_nbformat": 4,
  "vscode": {
   "interpreter": {
    "hash": "72db1283cdc3edc3e05ca6272062c06a23afc2ae71a79b6442f05a0b53e87d43"
   }
  }
 },
 "nbformat": 4,
 "nbformat_minor": 2
}
