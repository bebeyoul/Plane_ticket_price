{
 "cells": [
  {
   "attachments": {},
   "cell_type": "markdown",
   "metadata": {},
   "source": [
    "# Test interface"
   ]
  },
  {
   "cell_type": "code",
   "execution_count": 2,
   "metadata": {},
   "outputs": [],
   "source": [
    "from flask import Flask\n",
    "import pandas as pd\n",
    "from flask import Flask, render_template\n",
    "# instance de l'application Flask\n",
    "app = Flask(__name__)\n",
    "@app.route('/templates')\n",
    "\n",
    "def home():\n",
    "    prout = 'Super interface'\n",
    "    return render_template('page.html', title=prout)\n",
    "# Executer l'application\n",
    "if __name__ == '__main__':\n",
    "    app.run()"
   ]
  },
  {
   "cell_type": "code",
   "execution_count": 3,
   "metadata": {},
   "outputs": [
    {
     "name": "stdout",
     "output_type": "stream",
     "text": [
      " * Serving Flask app \"__main__\" (lazy loading)\n",
      " * Environment: production\n",
      "\u001b[31m   WARNING: This is a development server. Do not use it in a production deployment.\u001b[0m\n",
      "\u001b[2m   Use a production WSGI server instead.\u001b[0m\n",
      " * Debug mode: off\n"
     ]
    },
    {
     "name": "stderr",
     "output_type": "stream",
     "text": [
      " * Running on http://127.0.0.1:5000/ (Press CTRL+C to quit)\n",
      "127.0.0.1 - - [03/Jan/2023 17:04:50] \"GET / HTTP/1.1\" 200 -\n",
      "127.0.0.1 - - [03/Jan/2023 17:04:52] \"GET / HTTP/1.1\" 200 -\n"
     ]
    }
   ],
   "source": [
    "# instance de l'application Flask\n",
    "app = Flask(__name__)\n",
    "\n",
    "# route pour l'application\n",
    "@app.route('/')\n",
    "\n",
    "def hello():\n",
    "    return 'Hello, World!'\n",
    "\n",
    "# Executer l'application\n",
    "if __name__ == '__main__':\n",
    "    app.run()\n",
    "\n",
    "# http://localhost:5000/"
   ]
  },
  {
   "cell_type": "code",
   "execution_count": 3,
   "metadata": {},
   "outputs": [
    {
     "name": "stdout",
     "output_type": "stream",
     "text": [
      " * Serving Flask app \"__main__\" (lazy loading)\n",
      " * Environment: production\n",
      "\u001b[31m   WARNING: This is a development server. Do not use it in a production deployment.\u001b[0m\n",
      "\u001b[2m   Use a production WSGI server instead.\u001b[0m\n",
      " * Debug mode: off\n"
     ]
    },
    {
     "name": "stderr",
     "output_type": "stream",
     "text": [
      " * Running on http://127.0.0.1:5000/ (Press CTRL+C to quit)\n",
      "127.0.0.1 - - [03/Jan/2023 17:17:01] \"GET / HTTP/1.1\" 404 -\n"
     ]
    }
   ],
   "source": [
    "# instance de l'application Flask\n",
    "app = Flask(__name__)\n",
    "@app.route('/templates')\n",
    "\n",
    "def home():\n",
    "    prout = 'Super interface'\n",
    "    return render_template('page.html', title=prout)\n",
    "# Executer l'application\n",
    "if __name__ == '__main__':\n",
    "    app.run()"
   ]
  },
  {
   "cell_type": "code",
   "execution_count": null,
   "metadata": {},
   "outputs": [],
   "source": [
    "# instance de l'application Flask\n",
    "app = Flask(__name__)\n",
    "@app.route('/')\n",
    "\n",
    "def home2():\n",
    "    # Lire le dataset avec Pandas\n",
    "    df = pd.read_csv('PIB_annuel_et_PPA_par_pays_utile.xlsx')\n",
    "\n",
    "    # Sélectionner les colonnes à afficher\n",
    "    columns_to_display = ['Pays', 'PIB par habitant ($)']\n",
    "    data = df[columns_to_display]\n",
    "\n",
    "    # Passer les données à la page HTML en utilisant Jinja2\n",
    "    return render_template('page.html', data=data)\n",
    "\n",
    "\n",
    "# Executer l'application\n",
    "if __name__ == '__main__':\n",
    "    app.run()"
   ]
  }
 ],
 "metadata": {
  "kernelspec": {
   "display_name": "base",
   "language": "python",
   "name": "python3"
  },
  "language_info": {
   "codemirror_mode": {
    "name": "ipython",
    "version": 3
   },
   "file_extension": ".py",
   "mimetype": "text/x-python",
   "name": "python",
   "nbconvert_exporter": "python",
   "pygments_lexer": "ipython3",
   "version": "3.9.12"
  },
  "orig_nbformat": 4,
  "vscode": {
   "interpreter": {
    "hash": "72db1283cdc3edc3e05ca6272062c06a23afc2ae71a79b6442f05a0b53e87d43"
   }
  }
 },
 "nbformat": 4,
 "nbformat_minor": 2
}
