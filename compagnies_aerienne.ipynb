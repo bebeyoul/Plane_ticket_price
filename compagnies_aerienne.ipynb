{
 "cells": [
  {
   "attachments": {},
   "cell_type": "markdown",
   "metadata": {},
   "source": [
    "## Projet WebScrapping - Nombre de compagnies aeriennes"
   ]
  },
  {
   "cell_type": "code",
   "execution_count": 3,
   "metadata": {},
   "outputs": [],
   "source": [
    "import urllib\n",
    "import bs4\n",
    "from bs4 import BeautifulSoup\n",
    "from urllib import request\n",
    "import requests\n",
    "import pandas as pd"
   ]
  },
  {
   "cell_type": "code",
   "execution_count": 4,
   "metadata": {},
   "outputs": [],
   "source": [
    "# url = \"https://www.skyscanner.fr/cartevols/vols-toutes-compagnies-aeriennes\"\n",
    "url = \"https://fr.wikipedia.org/wiki/Liste_des_compagnies_a%C3%A9riennes_%C3%A0_bas_co%C3%BBts\"\n",
    "\n",
    "#option 1\n",
    "request_text = request.urlopen(url).read()\n",
    "html_page = bs4.BeautifulSoup(request_text, \"html\")\n",
    "\n",
    "#option 2\n",
    "page = requests.get(url)\n",
    "soup = BeautifulSoup(page.content, 'html.parser')"
   ]
  },
  {
   "cell_type": "code",
   "execution_count": 5,
   "metadata": {},
   "outputs": [],
   "source": [
    "liste_compagnie_Afrique = soup.find_all(\"div\",{\"class\": \"colonnes\"})[0]\n",
    "\n",
    "liste_compagnie = soup.find_all(\"div\",{\"class\": \"colonnes\"})"
   ]
  },
  {
   "cell_type": "code",
   "execution_count": 6,
   "metadata": {},
   "outputs": [],
   "source": [
    "liste_compagnie_bas_couts=[]\n",
    "for ul in liste_compagnie:\n",
    "    for li in ul.findAll('li'):\n",
    "        for a in li.findAll({'a'})[2:]:\n",
    "            liste_compagnie_bas_couts.append(a.text)\n"
   ]
  },
  {
   "cell_type": "code",
   "execution_count": 7,
   "metadata": {},
   "outputs": [
    {
     "name": "stdout",
     "output_type": "stream",
     "text": [
      "Selon wikipedia, il y a 170 compagnies a bas prix\n",
      "Elles sont:\n",
      " ['Kulula.com', 'Mango', 'FlySafair', 'Air Arabia', 'Air Cairo', 'FlyEgypt', 'Fastjet', 'Fly540', 'Jambojet', 'Air Arabia Maroc', 'Aero Contractors', 'Fastjet', 'Nouvelair Tunisie', 'Karthago Airlines', 'Syphax Airlines', 'Aerochaco', 'Norwegian Air Argentina', 'JetSmart Argentina', 'Flybondi', 'Amaszonas', 'Gol', 'Azul', 'Air Canada Rouge', 'Canada Jetlines', 'Flair Airlines', 'Swoop', 'Westjet', 'PAL Airlines', 'Sky Airline', 'JetSmart', 'EasyFly', 'Viva Colombia', 'Satena', 'Wingo', 'Volaris Costa Rica', 'Allegiant Air', 'Frontier Airlines', 'Interstate Jet', 'JetBlue Airways', 'Southwest Airlines', 'Spirit Airlines', 'Sun Country Airlines', 'USA 3000 Airlines', 'Virgin America', 'Vision Airlines', 'EasySky', 'Interjet', 'Viva Aerobus', 'Volaris', 'LC Busre', 'Peruvian Airlines', 'Star Perú', 'Viva Air Perú', 'Flycana', 'Fairline', 'Jetstar Airways', 'Virgin Australia', 'Sky Angkor Airlines', 'Lanmei Airlines', 'Spring Airlines', 'United Eagle Airlines', 'Juneyao Airlines', 'Okay Airways', 'Lucky Air', 'Ruili Airlines', 'Beijing Capital Airlines', 'China United Airlines', 'Urumqi Air', 'Chengdu Airlines', 'West Air', \"T'way Airlines\", 'Air Busan', 'Eastar Jet', 'Jeju Air', 'Jin Air', 'Air Seoul', 'HK Express', 'GoAir', 'SpiceJet', 'IndiGo', 'Air India Express', 'AirAsia India', 'Citilink', 'Indonesia AirAsia', 'Lion Air', 'Mandala Airlines', 'Wings Air', 'Jetstar Japan', 'Peach', 'Skymark Airlines', 'Solaseed Air', 'Spring Airlines Japan', 'StarFlyer', 'ZIPAIR Tokyo', 'Air Manas', 'AirAsia', 'AirAsia X', 'Firefly', 'MASWings', 'Malindo Air', 'Aero Asia', 'Air Blue', 'Cebgo', 'Cebu Pacific Air', 'AirAsia Philippines', 'Zest Airways', 'South East Asian Airlines', 'PAL Express', 'Scoot', 'Jetstar Asia', 'Bangkok Airways', 'Nok Air', 'Thai Smile', 'Thai AirAsia', 'Thai AirAsia X', 'Thai Lion Air', 'Thai Vietjet Air', 'Onur Air', 'AnadoluJet', 'Pegasus Airlines', 'Jetstar', 'VietJet Air', 'Albawings', 'Eurowings', 'EasyJet Europe', 'Eurowings Europe', 'Lauda', 'Buta Airways', 'TUI fly Belgium', 'Air Europa', 'Vueling Airlines', 'Volotea', 'Iberia Express', 'Level', 'Transavia France', 'French Bee', 'Wizzair', 'Ryanair', 'Norwegian Air International', 'Play', 'Blu-Express', 'AirBaltic', 'Norwegian Air Shuttle', 'Corendon', 'Transavia', 'Enter Air', 'Buzz', 'Blue Air', 'Carpatair', 'Norwegian Air UK', 'easyJet', 'Jet 2', 'Ryanair UK', 'Wizz Air UK', 'Pobeda', 'Golden Air', 'Scand Jet', 'Snalskjutsen', 'Stockholms Planet', 'Swedline', 'Norwegian Air Sweden', 'BRA Braathens', 'Smart Wings', 'EasyJet Switzerland', 'Helvetic Airways', 'Pegasus Airlines', 'SunExpress', 'AnadoluJet', 'Onur Air', 'SkyUp']\n"
     ]
    }
   ],
   "source": [
    "liste_compagnie_bas_couts #Attention il manque la moyen orient\n",
    "print(\"Selon wikipedia, il y a\",len(liste_compagnie_bas_couts),\"compagnies a bas prix\")\n",
    "print(\"Elles sont:\\n\",liste_compagnie_bas_couts)"
   ]
  },
  {
   "attachments": {},
   "cell_type": "markdown",
   "metadata": {},
   "source": [
    "## Plus grandes compagnies aeriennes"
   ]
  },
  {
   "attachments": {},
   "cell_type": "markdown",
   "metadata": {},
   "source": [
    "### Par nombre de pays desservis"
   ]
  },
  {
   "cell_type": "code",
   "execution_count": 8,
   "metadata": {},
   "outputs": [],
   "source": [
    "url_2 = \"https://fr.wikipedia.org/wiki/Liste_des_plus_grandes_compagnies_a%C3%A9riennes\"\n",
    "request_text_2 = request.urlopen(url_2).read()\n",
    "html_page_2 = bs4.BeautifulSoup(request_text_2, \"html\")"
   ]
  },
  {
   "cell_type": "code",
   "execution_count": 9,
   "metadata": {},
   "outputs": [],
   "source": [
    "tableau_Nb_pays_desservi = html_page_2.findAll(\"table\")[3]\n",
    "nom_compagnie_dessert_bcp_pays = []"
   ]
  },
  {
   "cell_type": "code",
   "execution_count": 10,
   "metadata": {},
   "outputs": [],
   "source": [
    "for tr in tableau_Nb_pays_desservi.findAll(\"tr\")[1:]:\n",
    "    for td in tr.findAll(\"td\")[0]:\n",
    "        nom_compagnie_dessert_bcp_pays.append(td.text)"
   ]
  },
  {
   "cell_type": "code",
   "execution_count": 11,
   "metadata": {},
   "outputs": [
    {
     "name": "stdout",
     "output_type": "stream",
     "text": [
      "Nom des compagnie desservant le plus de pays ['Turkish Airlines', 'Air France', 'Qatar Airways', 'Emirates', 'British Airways', 'Lufthansa', 'United Airlines', 'KLM', 'Delta Airlines', 'Aeroflot']\n",
      "10\n"
     ]
    }
   ],
   "source": [
    "nom_compagnie_dessert_bcp_pays_correct = []\n",
    "for i in range(len(nom_compagnie_dessert_bcp_pays)):\n",
    "    if nom_compagnie_dessert_bcp_pays[i] != \"\\n\":\n",
    "        nom_compagnie_dessert_bcp_pays_correct.append(nom_compagnie_dessert_bcp_pays[i])\n",
    "print(\"Nom des compagnie desservant le plus de pays\",nom_compagnie_dessert_bcp_pays_correct)\n",
    "print(len(nom_compagnie_dessert_bcp_pays_correct))"
   ]
  },
  {
   "attachments": {},
   "cell_type": "markdown",
   "metadata": {},
   "source": [
    "### Par nombre de destinations"
   ]
  },
  {
   "cell_type": "code",
   "execution_count": 12,
   "metadata": {},
   "outputs": [],
   "source": [
    "tableau_Nb_destination = html_page_2.findAll(\"table\")[4]\n",
    "nom_compagnie_bcp_de_destination = []"
   ]
  },
  {
   "cell_type": "code",
   "execution_count": 13,
   "metadata": {},
   "outputs": [],
   "source": [
    "for tr in tableau_Nb_destination.findAll(\"tr\")[1:]:\n",
    "    for td in tr.findAll(\"td\")[0]:\n",
    "        nom_compagnie_bcp_de_destination.append(td.text)"
   ]
  },
  {
   "cell_type": "code",
   "execution_count": 14,
   "metadata": {},
   "outputs": [
    {
     "name": "stdout",
     "output_type": "stream",
     "text": [
      "nom des compagnie ayant le plus de destinations ['United Airlines', 'American Airlines', 'Delta Air Lines', 'Air France', 'Turkish Airlines', 'Lufthansa', 'China Eastern Airlines', 'Ryanair', 'British Airways', 'China Southern Airlines', 'Air Canada']\n",
      "11\n"
     ]
    }
   ],
   "source": [
    "nom_compagnie_bcp_de_destination_correct = []\n",
    "for i in range(len(nom_compagnie_bcp_de_destination)):\n",
    "    if nom_compagnie_bcp_de_destination[i] != \"\\n\":\n",
    "        nom_compagnie_bcp_de_destination_correct.append(nom_compagnie_bcp_de_destination[i])\n",
    "print(\"nom des compagnie ayant le plus de destinations\",nom_compagnie_bcp_de_destination_correct)\n",
    "print(len(nom_compagnie_bcp_de_destination_correct))"
   ]
  },
  {
   "attachments": {},
   "cell_type": "markdown",
   "metadata": {},
   "source": [
    "## Toutes les compagnies"
   ]
  },
  {
   "cell_type": "code",
   "execution_count": 15,
   "metadata": {},
   "outputs": [],
   "source": [
    "liste_de_toutes_compagnies=[]\n",
    "liste_de_toutes_compagnies= nom_compagnie_bcp_de_destination_correct.copy()"
   ]
  },
  {
   "cell_type": "code",
   "execution_count": 16,
   "metadata": {},
   "outputs": [
    {
     "name": "stdout",
     "output_type": "stream",
     "text": [
      "Pays dans pays bcp desservi et dans nb de destination\n",
      "Turkish Airlines\n",
      "Air France\n",
      "British Airways\n",
      "Lufthansa\n",
      "United Airlines\n",
      "\n",
      "Nombre de compagnies à étudier avant low cost = 16\n",
      "liste_de_toutes_compagnies: ['United Airlines', 'American Airlines', 'Delta Air Lines', 'Air France', 'Turkish Airlines', 'Lufthansa', 'China Eastern Airlines', 'Ryanair', 'British Airways', 'China Southern Airlines', 'Air Canada', 'Qatar Airways', 'Emirates', 'KLM', 'Delta Airlines', 'Aeroflot']\n"
     ]
    }
   ],
   "source": [
    "print(\"Pays dans pays bcp desservi et dans nb de destination\")\n",
    "for i in nom_compagnie_dessert_bcp_pays_correct:\n",
    "    if i in liste_de_toutes_compagnies:\n",
    "        print(i)\n",
    "    if i not in liste_de_toutes_compagnies:\n",
    "        liste_de_toutes_compagnies.append(i)\n",
    "    \n",
    "print(\"\\nNombre de compagnies à étudier avant low cost =\",len(liste_de_toutes_compagnies))    \n",
    "print(\"liste_de_toutes_compagnies:\",liste_de_toutes_compagnies)"
   ]
  },
  {
   "cell_type": "code",
   "execution_count": 17,
   "metadata": {},
   "outputs": [],
   "source": [
    "liste_de_toutes_compagnies_avant_low_cost = liste_de_toutes_compagnies.copy()"
   ]
  },
  {
   "cell_type": "code",
   "execution_count": 18,
   "metadata": {},
   "outputs": [
    {
     "data": {
      "text/plain": [
       "['United Airlines',\n",
       " 'American Airlines',\n",
       " 'Delta Air Lines',\n",
       " 'Air France',\n",
       " 'Turkish Airlines',\n",
       " 'Lufthansa',\n",
       " 'China Eastern Airlines',\n",
       " 'Ryanair',\n",
       " 'British Airways',\n",
       " 'China Southern Airlines',\n",
       " 'Air Canada',\n",
       " 'Qatar Airways',\n",
       " 'Emirates',\n",
       " 'KLM',\n",
       " 'Delta Airlines',\n",
       " 'Aeroflot']"
      ]
     },
     "execution_count": 18,
     "metadata": {},
     "output_type": "execute_result"
    }
   ],
   "source": [
    "liste_de_toutes_compagnies_avant_low_cost"
   ]
  },
  {
   "cell_type": "code",
   "execution_count": 19,
   "metadata": {},
   "outputs": [
    {
     "name": "stdout",
     "output_type": "stream",
     "text": [
      "Pays dans toutes les compagnies et dans low cost\n",
      "Ryanair\n"
     ]
    }
   ],
   "source": [
    "print(\"Pays dans toutes les compagnies et dans low cost\" )\n",
    "for i in liste_compagnie_bas_couts:\n",
    "    if i in liste_de_toutes_compagnies_avant_low_cost:\n",
    "        print(i)\n",
    "    if i not in liste_de_toutes_compagnies_avant_low_cost:\n",
    "        liste_de_toutes_compagnies.append(i)"
   ]
  },
  {
   "cell_type": "code",
   "execution_count": 20,
   "metadata": {},
   "outputs": [
    {
     "name": "stdout",
     "output_type": "stream",
     "text": [
      "['United Airlines', 'American Airlines', 'Delta Air Lines', 'Air France', 'Turkish Airlines', 'Lufthansa', 'China Eastern Airlines', 'Ryanair', 'British Airways', 'China Southern Airlines', 'Air Canada', 'Qatar Airways', 'Emirates', 'KLM', 'Delta Airlines', 'Aeroflot', 'Kulula.com', 'Mango', 'FlySafair', 'Air Arabia', 'Air Cairo', 'FlyEgypt', 'Fastjet', 'Fly540', 'Jambojet', 'Air Arabia Maroc', 'Aero Contractors', 'Fastjet', 'Nouvelair Tunisie', 'Karthago Airlines', 'Syphax Airlines', 'Aerochaco', 'Norwegian Air Argentina', 'JetSmart Argentina', 'Flybondi', 'Amaszonas', 'Gol', 'Azul', 'Air Canada Rouge', 'Canada Jetlines', 'Flair Airlines', 'Swoop', 'Westjet', 'PAL Airlines', 'Sky Airline', 'JetSmart', 'EasyFly', 'Viva Colombia', 'Satena', 'Wingo', 'Volaris Costa Rica', 'Allegiant Air', 'Frontier Airlines', 'Interstate Jet', 'JetBlue Airways', 'Southwest Airlines', 'Spirit Airlines', 'Sun Country Airlines', 'USA 3000 Airlines', 'Virgin America', 'Vision Airlines', 'EasySky', 'Interjet', 'Viva Aerobus', 'Volaris', 'LC Busre', 'Peruvian Airlines', 'Star Perú', 'Viva Air Perú', 'Flycana', 'Fairline', 'Jetstar Airways', 'Virgin Australia', 'Sky Angkor Airlines', 'Lanmei Airlines', 'Spring Airlines', 'United Eagle Airlines', 'Juneyao Airlines', 'Okay Airways', 'Lucky Air', 'Ruili Airlines', 'Beijing Capital Airlines', 'China United Airlines', 'Urumqi Air', 'Chengdu Airlines', 'West Air', \"T'way Airlines\", 'Air Busan', 'Eastar Jet', 'Jeju Air', 'Jin Air', 'Air Seoul', 'HK Express', 'GoAir', 'SpiceJet', 'IndiGo', 'Air India Express', 'AirAsia India', 'Citilink', 'Indonesia AirAsia', 'Lion Air', 'Mandala Airlines', 'Wings Air', 'Jetstar Japan', 'Peach', 'Skymark Airlines', 'Solaseed Air', 'Spring Airlines Japan', 'StarFlyer', 'ZIPAIR Tokyo', 'Air Manas', 'AirAsia', 'AirAsia X', 'Firefly', 'MASWings', 'Malindo Air', 'Aero Asia', 'Air Blue', 'Cebgo', 'Cebu Pacific Air', 'AirAsia Philippines', 'Zest Airways', 'South East Asian Airlines', 'PAL Express', 'Scoot', 'Jetstar Asia', 'Bangkok Airways', 'Nok Air', 'Thai Smile', 'Thai AirAsia', 'Thai AirAsia X', 'Thai Lion Air', 'Thai Vietjet Air', 'Onur Air', 'AnadoluJet', 'Pegasus Airlines', 'Jetstar', 'VietJet Air', 'Albawings', 'Eurowings', 'EasyJet Europe', 'Eurowings Europe', 'Lauda', 'Buta Airways', 'TUI fly Belgium', 'Air Europa', 'Vueling Airlines', 'Volotea', 'Iberia Express', 'Level', 'Transavia France', 'French Bee', 'Wizzair', 'Norwegian Air International', 'Play', 'Blu-Express', 'AirBaltic', 'Norwegian Air Shuttle', 'Corendon', 'Transavia', 'Enter Air', 'Buzz', 'Blue Air', 'Carpatair', 'Norwegian Air UK', 'easyJet', 'Jet 2', 'Ryanair UK', 'Wizz Air UK', 'Pobeda', 'Golden Air', 'Scand Jet', 'Snalskjutsen', 'Stockholms Planet', 'Swedline', 'Norwegian Air Sweden', 'BRA Braathens', 'Smart Wings', 'EasyJet Switzerland', 'Helvetic Airways', 'Pegasus Airlines', 'SunExpress', 'AnadoluJet', 'Onur Air', 'SkyUp']\n",
      "\n",
      "Nombre de compagnie desservant beaucoup de pays = 10\n",
      "Nombre de compagnie avec beaucoup de destinations = 11\n",
      "Nombre de compagnie a bas couts = 170\n",
      "Nombre de compagnies à étudier = 185\n"
     ]
    }
   ],
   "source": [
    "print(liste_de_toutes_compagnies)\n",
    "print(\"\\nNombre de compagnie desservant beaucoup de pays =\",len(nom_compagnie_dessert_bcp_pays_correct))\n",
    "print(\"Nombre de compagnie avec beaucoup de destinations =\",len(nom_compagnie_bcp_de_destination_correct))\n",
    "print(\"Nombre de compagnie a bas couts =\",len(liste_compagnie_bas_couts))\n",
    "\n",
    "print(\"Nombre de compagnies à étudier =\",len(liste_de_toutes_compagnies))"
   ]
  },
  {
   "cell_type": "code",
   "execution_count": 21,
   "metadata": {},
   "outputs": [],
   "source": [
    "df = pd.DataFrame (liste_de_toutes_compagnies, columns = ['Nom des compagnies'])"
   ]
  },
  {
   "cell_type": "code",
   "execution_count": 23,
   "metadata": {},
   "outputs": [],
   "source": [
    "df.to_excel('nom_des_compagnies.xlsx', sheet_name='sheet1', index=False)"
   ]
  }
 ],
 "metadata": {
  "kernelspec": {
   "display_name": "base",
   "language": "python",
   "name": "python3"
  },
  "language_info": {
   "codemirror_mode": {
    "name": "ipython",
    "version": 3
   },
   "file_extension": ".py",
   "mimetype": "text/x-python",
   "name": "python",
   "nbconvert_exporter": "python",
   "pygments_lexer": "ipython3",
   "version": "3.9.12 (main, Apr  4 2022, 05:22:27) [MSC v.1916 64 bit (AMD64)]"
  },
  "orig_nbformat": 4,
  "vscode": {
   "interpreter": {
    "hash": "72db1283cdc3edc3e05ca6272062c06a23afc2ae71a79b6442f05a0b53e87d43"
   }
  }
 },
 "nbformat": 4,
 "nbformat_minor": 2
}
